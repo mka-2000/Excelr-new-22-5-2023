{
  "nbformat": 4,
  "nbformat_minor": 0,
  "metadata": {
    "colab": {
      "provenance": []
    },
    "kernelspec": {
      "name": "python3",
      "display_name": "Python 3"
    },
    "language_info": {
      "name": "python"
    }
  },
  "cells": [
    {
      "cell_type": "code",
      "execution_count": null,
      "metadata": {
        "id": "ebGM1a_xBdos",
        "colab": {
          "base_uri": "https://localhost:8080/"
        },
        "outputId": "e5a285c5-353d-48c3-a728-6e390398e8f1"
      },
      "outputs": [
        {
          "output_type": "stream",
          "name": "stdout",
          "text": [
            "a = 0.7340144709512995\n",
            "The Probability of serving manager meeting the customer needs =  73.4 %\n"
          ]
        }
      ],
      "source": [
        "# Q1) Given to us is the time required for service transmissions are Normally Distributed with \n",
        "# i) mean = 45 , ii) Standard deviation = 8\n",
        "#First finding the Probability of service manager meeting the customers need.\n",
        "#Let 'a' be the Probability of the service Manager meeting the Customer Needs.\n",
        "\n",
        "from scipy import stats\n",
        "\n",
        "a=stats.norm.cdf(50,loc=45,scale=8)\n",
        "print('a =',a)\n",
        "print('The Probability of serving manager meeting the customer needs = ',round(a*100,2),'%')"
      ]
    },
    {
      "cell_type": "code",
      "source": [
        "# Probabilty of not meeting the Customers need.\n",
        "print('1-a = ',1-a)\n",
        "print('The Probability of Service Manager not meeting the needs = ',round((1-a)*100,2),'%')"
      ],
      "metadata": {
        "id": "-CmQZDqyQ0v_",
        "colab": {
          "base_uri": "https://localhost:8080/"
        },
        "outputId": "e5d888a9-9a28-4cb3-ce62-0077cec343f8"
      },
      "execution_count": null,
      "outputs": [
        {
          "output_type": "stream",
          "name": "stdout",
          "text": [
            "1-a =  0.26598552904870054\n",
            "The Probability of Service Manager not meeting the needs =  26.6 %\n"
          ]
        }
      ]
    },
    {
      "cell_type": "markdown",
      "source": [
        "Therefore, the Probability of the service manager not able to meet the needs of the customer is 26.6 %.Which is near to option (b) of 0.2676.\n",
        "\n",
        "Hence , we conclude that the answer for the question is option (b)."
      ],
      "metadata": {
        "id": "_-y_FW93SOex"
      }
    },
    {
      "cell_type": "code",
      "source": [],
      "metadata": {
        "id": "q8OjpoQQSNmr"
      },
      "execution_count": null,
      "outputs": []
    },
    {
      "cell_type": "code",
      "source": [],
      "metadata": {
        "id": "J7gWoCLMRnqp"
      },
      "execution_count": null,
      "outputs": []
    },
    {
      "cell_type": "code",
      "source": [
        "# Q2) a) Given to us is current ages of 400 clerical employees in an insurance claim company are\n",
        "# Normally distributed with mean = 38 and standard deviation = 6. \n",
        "# we are required to find whether:\n",
        "\n",
        "# i) Employees older than age of 44.\n",
        "\n",
        "from scipy import stats\n",
        "a=stats.norm.cdf(44,loc=38,scale=6)\n",
        "a"
      ],
      "metadata": {
        "colab": {
          "base_uri": "https://localhost:8080/"
        },
        "id": "semKi3Z9Bktq",
        "outputId": "3eb4cdea-c491-4764-f95f-93945573a66a"
      },
      "execution_count": null,
      "outputs": [
        {
          "output_type": "execute_result",
          "data": {
            "text/plain": [
              "0.8413447460685429"
            ]
          },
          "metadata": {},
          "execution_count": 1
        }
      ]
    },
    {
      "cell_type": "code",
      "source": [
        "# To get the no.of employees out of 400,we multiply it with 400.\n",
        "print('No.of Employees older than age of 44 are ',round(a*400))"
      ],
      "metadata": {
        "colab": {
          "base_uri": "https://localhost:8080/"
        },
        "id": "N0Fm8HlpN4Vl",
        "outputId": "a39e1d0c-4fdb-4cc3-947e-b471089692f9"
      },
      "execution_count": null,
      "outputs": [
        {
          "output_type": "stream",
          "name": "stdout",
          "text": [
            "No.of Employees older than age of 44 are  337\n"
          ]
        }
      ]
    },
    {
      "cell_type": "markdown",
      "source": [
        "There are 337 Employees older than age of 44."
      ],
      "metadata": {
        "id": "kSOiw9Rcu7wu"
      }
    },
    {
      "cell_type": "code",
      "source": [],
      "metadata": {
        "id": "wy-HR59uwnJY"
      },
      "execution_count": null,
      "outputs": []
    },
    {
      "cell_type": "code",
      "source": [],
      "metadata": {
        "id": "3S1GhPnswnog"
      },
      "execution_count": null,
      "outputs": []
    },
    {
      "cell_type": "code",
      "source": [
        "# 2) a) ii)Or Employees of the age between 38 and 44.\n",
        "b=stats.norm.cdf(44,loc=38,scale=6)-stats.norm.cdf(38,loc=38,scale=6)\n",
        "print(round(b*100,3),'%')"
      ],
      "metadata": {
        "colab": {
          "base_uri": "https://localhost:8080/"
        },
        "id": "VpfPbPMgBrvC",
        "outputId": "3b53c90b-c53a-4c13-dda9-899c34c80b4b"
      },
      "execution_count": null,
      "outputs": [
        {
          "output_type": "stream",
          "name": "stdout",
          "text": [
            "34.134 %\n"
          ]
        }
      ]
    },
    {
      "cell_type": "code",
      "source": [
        "print('No of Employess of the age between 38 and 44 are',round(b*400))"
      ],
      "metadata": {
        "colab": {
          "base_uri": "https://localhost:8080/"
        },
        "id": "aps9tOeXBwDq",
        "outputId": "1a915d49-6f94-42bd-90c8-f18486913b02"
      },
      "execution_count": null,
      "outputs": [
        {
          "output_type": "stream",
          "name": "stdout",
          "text": [
            "No of Employess of the age between 38 and 44 are 137\n"
          ]
        }
      ]
    },
    {
      "cell_type": "markdown",
      "source": [
        " There are 137 Employees working under between the age of 38 and 44."
      ],
      "metadata": {
        "id": "fNsA8DGaB65K"
      }
    },
    {
      "cell_type": "markdown",
      "source": [
        "By comparing the results from the above statements,we can say that the No.of Employees working are of the age older than 44 are more than that of the Employees working under the age of 38 and 44.\n",
        "\n",
        "Hence, we say that the stament is True."
      ],
      "metadata": {
        "id": "9tfy0G20viHn"
      }
    },
    {
      "cell_type": "code",
      "source": [],
      "metadata": {
        "id": "ulfsLw9owjLT"
      },
      "execution_count": null,
      "outputs": []
    },
    {
      "cell_type": "code",
      "source": [],
      "metadata": {
        "id": "51bF0F65wkFs"
      },
      "execution_count": null,
      "outputs": []
    },
    {
      "cell_type": "code",
      "source": [
        "# 2 b) A training program for employees under the age of 30 at the center would be expected to attract about 36 employees.\n",
        "\n",
        "# Percentage of Employees under the age of 30\n",
        "c=stats.norm.cdf(30,loc=38,scale=6)\n",
        "print(round(c*100,2),'%')"
      ],
      "metadata": {
        "colab": {
          "base_uri": "https://localhost:8080/"
        },
        "id": "rJ86QikvB_BT",
        "outputId": "ea00af79-89a0-4667-a76a-5c5ad96de297"
      },
      "execution_count": null,
      "outputs": [
        {
          "output_type": "stream",
          "name": "stdout",
          "text": [
            "9.12 %\n"
          ]
        }
      ]
    },
    {
      "cell_type": "markdown",
      "source": [
        "Therefore, we conclude that the Percentage of Employees under the age of 30 is \n",
        "9.12%."
      ],
      "metadata": {
        "id": "qiutqjUfCJkw"
      }
    },
    {
      "cell_type": "code",
      "source": [
        "# To get No.of Employees under the age of 30,we multiply with 400.\n",
        "print(round(c*400))"
      ],
      "metadata": {
        "colab": {
          "base_uri": "https://localhost:8080/"
        },
        "id": "ZdIr6UKwCDKw",
        "outputId": "4a263f9d-8123-4b09-c429-6065e401f1bb"
      },
      "execution_count": null,
      "outputs": [
        {
          "output_type": "stream",
          "name": "stdout",
          "text": [
            "36\n"
          ]
        }
      ]
    },
    {
      "cell_type": "markdown",
      "source": [
        "Therefore , we conclude that there are '36' Employees under the age of 30."
      ],
      "metadata": {
        "id": "JS_x5IlICUaC"
      }
    },
    {
      "cell_type": "code",
      "source": [],
      "metadata": {
        "id": "SKIYOrMOCOrC"
      },
      "execution_count": null,
      "outputs": []
    },
    {
      "cell_type": "code",
      "source": [],
      "metadata": {
        "id": "TBU2kDmfGuCm"
      },
      "execution_count": null,
      "outputs": []
    },
    {
      "cell_type": "code",
      "source": [
        "# Q4)\n",
        "# Given to us is mean = 100 and standard deviation = 20.\n",
        "# ->  We need to find two values between which the Probability is 99%.\n",
        "# -> By going through options and finding which gives the probability of 99%.\n",
        "\n",
        "# i) a = 90.5 and b = 105.9\n",
        "\n",
        "from scipy import stats\n",
        "\n",
        "a = stats.norm.cdf(105.9,loc=100,scale=20) - stats.norm.cdf(90.5,loc=100,scale=20)\n",
        "print(round(a*100),'%')"
      ],
      "metadata": {
        "colab": {
          "base_uri": "https://localhost:8080/"
        },
        "id": "cS_MrOXpGsHN",
        "outputId": "25fab939-a853-410b-84d6-7fea46d7f0a5"
      },
      "execution_count": null,
      "outputs": [
        {
          "output_type": "stream",
          "name": "stdout",
          "text": [
            "30 %\n"
          ]
        }
      ]
    },
    {
      "cell_type": "code",
      "source": [
        "# ii) a=80.2  and b = 119.8\n",
        "a = stats.norm.cdf(119.8,loc=100,scale=20) - stats.norm.cdf(80.2,loc=100,scale=20)\n",
        "print(round(a*100),'%')"
      ],
      "metadata": {
        "colab": {
          "base_uri": "https://localhost:8080/"
        },
        "id": "qf3DvZk7HNfM",
        "outputId": "5506c1d2-d5bb-4691-ff85-7607aff97e8d"
      },
      "execution_count": null,
      "outputs": [
        {
          "output_type": "stream",
          "name": "stdout",
          "text": [
            "68 %\n"
          ]
        }
      ]
    },
    {
      "cell_type": "code",
      "source": [
        "# iii) a = 22 and b = 78\n",
        "a = stats.norm.cdf(78,loc=100,scale=20) - stats.norm.cdf(22,loc=100,scale=20)\n",
        "print(round(a*100),'%')"
      ],
      "metadata": {
        "colab": {
          "base_uri": "https://localhost:8080/"
        },
        "id": "oSTTEVBKHZub",
        "outputId": "7fe47c8f-ecdf-46a6-90ec-0eb0e2a4c9ff"
      },
      "execution_count": null,
      "outputs": [
        {
          "output_type": "stream",
          "name": "stdout",
          "text": [
            "14 %\n"
          ]
        }
      ]
    },
    {
      "cell_type": "code",
      "source": [
        "# - >  iv) a = 48.5 and b = 151.5\n",
        "a = stats.norm.cdf(151.5,loc=100,scale=20) - stats.norm.cdf(48.5,loc=100,scale=20)\n",
        "print(round(a*100),'%')"
      ],
      "metadata": {
        "colab": {
          "base_uri": "https://localhost:8080/"
        },
        "id": "n-xUQiYzHkIP",
        "outputId": "2e1b0aeb-0cf5-4cba-f2ec-b9e5bd4faaae"
      },
      "execution_count": null,
      "outputs": [
        {
          "output_type": "stream",
          "name": "stdout",
          "text": [
            "99 %\n"
          ]
        }
      ]
    },
    {
      "cell_type": "code",
      "source": [
        "# v) a = 90.1 and  b = 109.9\n",
        "a = stats.norm.cdf(109.9,loc=100,scale=20) - stats.norm.cdf(90.1,loc=100,scale=20)\n",
        "print(round(a*100),'%')"
      ],
      "metadata": {
        "colab": {
          "base_uri": "https://localhost:8080/"
        },
        "id": "Du5jtruTLJ8Q",
        "outputId": "4171e4dd-d53f-44d6-8143-c88ccac83ddf"
      },
      "execution_count": null,
      "outputs": [
        {
          "output_type": "stream",
          "name": "stdout",
          "text": [
            "38 %\n"
          ]
        }
      ]
    },
    {
      "cell_type": "markdown",
      "source": [
        "From the above options, we find that the \n",
        "-> (iv) option , that is, when a = 48.5 and b = 151.5 are the two values ,\n",
        " symmetric about the mean , such that the probability of the random variable taking a value between them is 0.99."
      ],
      "metadata": {
        "id": "a4EVeqRETvej"
      }
    }
  ]
}