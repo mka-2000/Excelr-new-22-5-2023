{
  "nbformat": 4,
  "nbformat_minor": 0,
  "metadata": {
    "colab": {
      "provenance": []
    },
    "kernelspec": {
      "name": "python3",
      "display_name": "Python 3"
    },
    "language_info": {
      "name": "python"
    }
  },
  "cells": [
    {
      "cell_type": "code",
      "execution_count": null,
      "metadata": {
        "id": "Vyy_Bk4X5MFU"
      },
      "outputs": [],
      "source": [
        "#   Fraud Check \n",
        "\n",
        "#  Use decision trees to prepare a model on fraud data \n",
        "#  treating those who have taxable_income <= 30000 as \"Risky\" and others are \"Good\""
      ]
    },
    {
      "cell_type": "code",
      "source": [],
      "metadata": {
        "id": "qGVKkhBeGJbw"
      },
      "execution_count": null,
      "outputs": []
    },
    {
      "cell_type": "code",
      "source": [
        "# Importing the librarires"
      ],
      "metadata": {
        "id": "dfQRV8m4GA5p"
      },
      "execution_count": null,
      "outputs": []
    },
    {
      "cell_type": "code",
      "source": [],
      "metadata": {
        "id": "c6EYxwSDGA9b"
      },
      "execution_count": null,
      "outputs": []
    },
    {
      "cell_type": "code",
      "source": [
        "import pandas as pd\n",
        "import matplotlib.pyplot as plt\n",
        "import numpy as np\n",
        "import seaborn as sns\n",
        "from sklearn.model_selection import train_test_split\n",
        "from sklearn.tree import DecisionTreeClassifier\n",
        "from sklearn import tree\n",
        "from sklearn.metrics import classification_report\n",
        "from sklearn import preprocessing \n",
        "from sklearn.metrics import accuracy_score\n",
        "from sklearn.metrics import confusion_matrix"
      ],
      "metadata": {
        "id": "aC1H9KbAGBMb"
      },
      "execution_count": null,
      "outputs": []
    },
    {
      "cell_type": "code",
      "source": [],
      "metadata": {
        "id": "XwJyuTgNHInn"
      },
      "execution_count": null,
      "outputs": []
    },
    {
      "cell_type": "code",
      "source": [
        "# Loading the file"
      ],
      "metadata": {
        "id": "NthbU_ZAGuKu"
      },
      "execution_count": null,
      "outputs": []
    },
    {
      "cell_type": "code",
      "source": [
        "from google.colab import files\n",
        "uploaded = files.upload()"
      ],
      "metadata": {
        "colab": {
          "base_uri": "https://localhost:8080/",
          "height": 71
        },
        "id": "6Hb1XlDLGzKI",
        "outputId": "cf6c9f40-e07f-4460-9389-e6ddd9ed79d3"
      },
      "execution_count": null,
      "outputs": [
        {
          "output_type": "display_data",
          "data": {
            "text/plain": [
              "<IPython.core.display.HTML object>"
            ],
            "text/html": [
              "\n",
              "     <input type=\"file\" id=\"files-cfc08cfc-3cec-4d54-aa4f-32dac20d965e\" name=\"files[]\" multiple disabled\n",
              "        style=\"border:none\" />\n",
              "     <output id=\"result-cfc08cfc-3cec-4d54-aa4f-32dac20d965e\">\n",
              "      Upload widget is only available when the cell has been executed in the\n",
              "      current browser session. Please rerun this cell to enable.\n",
              "      </output>\n",
              "      <script>// Copyright 2017 Google LLC\n",
              "//\n",
              "// Licensed under the Apache License, Version 2.0 (the \"License\");\n",
              "// you may not use this file except in compliance with the License.\n",
              "// You may obtain a copy of the License at\n",
              "//\n",
              "//      http://www.apache.org/licenses/LICENSE-2.0\n",
              "//\n",
              "// Unless required by applicable law or agreed to in writing, software\n",
              "// distributed under the License is distributed on an \"AS IS\" BASIS,\n",
              "// WITHOUT WARRANTIES OR CONDITIONS OF ANY KIND, either express or implied.\n",
              "// See the License for the specific language governing permissions and\n",
              "// limitations under the License.\n",
              "\n",
              "/**\n",
              " * @fileoverview Helpers for google.colab Python module.\n",
              " */\n",
              "(function(scope) {\n",
              "function span(text, styleAttributes = {}) {\n",
              "  const element = document.createElement('span');\n",
              "  element.textContent = text;\n",
              "  for (const key of Object.keys(styleAttributes)) {\n",
              "    element.style[key] = styleAttributes[key];\n",
              "  }\n",
              "  return element;\n",
              "}\n",
              "\n",
              "// Max number of bytes which will be uploaded at a time.\n",
              "const MAX_PAYLOAD_SIZE = 100 * 1024;\n",
              "\n",
              "function _uploadFiles(inputId, outputId) {\n",
              "  const steps = uploadFilesStep(inputId, outputId);\n",
              "  const outputElement = document.getElementById(outputId);\n",
              "  // Cache steps on the outputElement to make it available for the next call\n",
              "  // to uploadFilesContinue from Python.\n",
              "  outputElement.steps = steps;\n",
              "\n",
              "  return _uploadFilesContinue(outputId);\n",
              "}\n",
              "\n",
              "// This is roughly an async generator (not supported in the browser yet),\n",
              "// where there are multiple asynchronous steps and the Python side is going\n",
              "// to poll for completion of each step.\n",
              "// This uses a Promise to block the python side on completion of each step,\n",
              "// then passes the result of the previous step as the input to the next step.\n",
              "function _uploadFilesContinue(outputId) {\n",
              "  const outputElement = document.getElementById(outputId);\n",
              "  const steps = outputElement.steps;\n",
              "\n",
              "  const next = steps.next(outputElement.lastPromiseValue);\n",
              "  return Promise.resolve(next.value.promise).then((value) => {\n",
              "    // Cache the last promise value to make it available to the next\n",
              "    // step of the generator.\n",
              "    outputElement.lastPromiseValue = value;\n",
              "    return next.value.response;\n",
              "  });\n",
              "}\n",
              "\n",
              "/**\n",
              " * Generator function which is called between each async step of the upload\n",
              " * process.\n",
              " * @param {string} inputId Element ID of the input file picker element.\n",
              " * @param {string} outputId Element ID of the output display.\n",
              " * @return {!Iterable<!Object>} Iterable of next steps.\n",
              " */\n",
              "function* uploadFilesStep(inputId, outputId) {\n",
              "  const inputElement = document.getElementById(inputId);\n",
              "  inputElement.disabled = false;\n",
              "\n",
              "  const outputElement = document.getElementById(outputId);\n",
              "  outputElement.innerHTML = '';\n",
              "\n",
              "  const pickedPromise = new Promise((resolve) => {\n",
              "    inputElement.addEventListener('change', (e) => {\n",
              "      resolve(e.target.files);\n",
              "    });\n",
              "  });\n",
              "\n",
              "  const cancel = document.createElement('button');\n",
              "  inputElement.parentElement.appendChild(cancel);\n",
              "  cancel.textContent = 'Cancel upload';\n",
              "  const cancelPromise = new Promise((resolve) => {\n",
              "    cancel.onclick = () => {\n",
              "      resolve(null);\n",
              "    };\n",
              "  });\n",
              "\n",
              "  // Wait for the user to pick the files.\n",
              "  const files = yield {\n",
              "    promise: Promise.race([pickedPromise, cancelPromise]),\n",
              "    response: {\n",
              "      action: 'starting',\n",
              "    }\n",
              "  };\n",
              "\n",
              "  cancel.remove();\n",
              "\n",
              "  // Disable the input element since further picks are not allowed.\n",
              "  inputElement.disabled = true;\n",
              "\n",
              "  if (!files) {\n",
              "    return {\n",
              "      response: {\n",
              "        action: 'complete',\n",
              "      }\n",
              "    };\n",
              "  }\n",
              "\n",
              "  for (const file of files) {\n",
              "    const li = document.createElement('li');\n",
              "    li.append(span(file.name, {fontWeight: 'bold'}));\n",
              "    li.append(span(\n",
              "        `(${file.type || 'n/a'}) - ${file.size} bytes, ` +\n",
              "        `last modified: ${\n",
              "            file.lastModifiedDate ? file.lastModifiedDate.toLocaleDateString() :\n",
              "                                    'n/a'} - `));\n",
              "    const percent = span('0% done');\n",
              "    li.appendChild(percent);\n",
              "\n",
              "    outputElement.appendChild(li);\n",
              "\n",
              "    const fileDataPromise = new Promise((resolve) => {\n",
              "      const reader = new FileReader();\n",
              "      reader.onload = (e) => {\n",
              "        resolve(e.target.result);\n",
              "      };\n",
              "      reader.readAsArrayBuffer(file);\n",
              "    });\n",
              "    // Wait for the data to be ready.\n",
              "    let fileData = yield {\n",
              "      promise: fileDataPromise,\n",
              "      response: {\n",
              "        action: 'continue',\n",
              "      }\n",
              "    };\n",
              "\n",
              "    // Use a chunked sending to avoid message size limits. See b/62115660.\n",
              "    let position = 0;\n",
              "    do {\n",
              "      const length = Math.min(fileData.byteLength - position, MAX_PAYLOAD_SIZE);\n",
              "      const chunk = new Uint8Array(fileData, position, length);\n",
              "      position += length;\n",
              "\n",
              "      const base64 = btoa(String.fromCharCode.apply(null, chunk));\n",
              "      yield {\n",
              "        response: {\n",
              "          action: 'append',\n",
              "          file: file.name,\n",
              "          data: base64,\n",
              "        },\n",
              "      };\n",
              "\n",
              "      let percentDone = fileData.byteLength === 0 ?\n",
              "          100 :\n",
              "          Math.round((position / fileData.byteLength) * 100);\n",
              "      percent.textContent = `${percentDone}% done`;\n",
              "\n",
              "    } while (position < fileData.byteLength);\n",
              "  }\n",
              "\n",
              "  // All done.\n",
              "  yield {\n",
              "    response: {\n",
              "      action: 'complete',\n",
              "    }\n",
              "  };\n",
              "}\n",
              "\n",
              "scope.google = scope.google || {};\n",
              "scope.google.colab = scope.google.colab || {};\n",
              "scope.google.colab._files = {\n",
              "  _uploadFiles,\n",
              "  _uploadFilesContinue,\n",
              "};\n",
              "})(self);\n",
              "</script> "
            ]
          },
          "metadata": {}
        },
        {
          "output_type": "stream",
          "name": "stdout",
          "text": [
            "Saving Fraud_check (1).csv to Fraud_check (1).csv\n"
          ]
        }
      ]
    },
    {
      "cell_type": "code",
      "source": [
        "f_c = pd.read_csv('Fraud_check (1).csv')\n",
        "f_c.head()"
      ],
      "metadata": {
        "colab": {
          "base_uri": "https://localhost:8080/",
          "height": 206
        },
        "id": "_sxVaD_-GzPA",
        "outputId": "03c9fc2a-6ff0-4ba3-bde9-9355426d2927"
      },
      "execution_count": null,
      "outputs": [
        {
          "output_type": "execute_result",
          "data": {
            "text/plain": [
              "  Undergrad Marital.Status  Taxable.Income  City.Population  Work.Experience  \\\n",
              "0        NO         Single           68833            50047               10   \n",
              "1       YES       Divorced           33700           134075               18   \n",
              "2        NO        Married           36925           160205               30   \n",
              "3       YES         Single           50190           193264               15   \n",
              "4        NO        Married           81002            27533               28   \n",
              "\n",
              "  Urban  \n",
              "0   YES  \n",
              "1   YES  \n",
              "2   YES  \n",
              "3   YES  \n",
              "4    NO  "
            ],
            "text/html": [
              "\n",
              "  <div id=\"df-0f57a3fd-5b70-4bb0-a07a-5f58ae40a689\">\n",
              "    <div class=\"colab-df-container\">\n",
              "      <div>\n",
              "<style scoped>\n",
              "    .dataframe tbody tr th:only-of-type {\n",
              "        vertical-align: middle;\n",
              "    }\n",
              "\n",
              "    .dataframe tbody tr th {\n",
              "        vertical-align: top;\n",
              "    }\n",
              "\n",
              "    .dataframe thead th {\n",
              "        text-align: right;\n",
              "    }\n",
              "</style>\n",
              "<table border=\"1\" class=\"dataframe\">\n",
              "  <thead>\n",
              "    <tr style=\"text-align: right;\">\n",
              "      <th></th>\n",
              "      <th>Undergrad</th>\n",
              "      <th>Marital.Status</th>\n",
              "      <th>Taxable.Income</th>\n",
              "      <th>City.Population</th>\n",
              "      <th>Work.Experience</th>\n",
              "      <th>Urban</th>\n",
              "    </tr>\n",
              "  </thead>\n",
              "  <tbody>\n",
              "    <tr>\n",
              "      <th>0</th>\n",
              "      <td>NO</td>\n",
              "      <td>Single</td>\n",
              "      <td>68833</td>\n",
              "      <td>50047</td>\n",
              "      <td>10</td>\n",
              "      <td>YES</td>\n",
              "    </tr>\n",
              "    <tr>\n",
              "      <th>1</th>\n",
              "      <td>YES</td>\n",
              "      <td>Divorced</td>\n",
              "      <td>33700</td>\n",
              "      <td>134075</td>\n",
              "      <td>18</td>\n",
              "      <td>YES</td>\n",
              "    </tr>\n",
              "    <tr>\n",
              "      <th>2</th>\n",
              "      <td>NO</td>\n",
              "      <td>Married</td>\n",
              "      <td>36925</td>\n",
              "      <td>160205</td>\n",
              "      <td>30</td>\n",
              "      <td>YES</td>\n",
              "    </tr>\n",
              "    <tr>\n",
              "      <th>3</th>\n",
              "      <td>YES</td>\n",
              "      <td>Single</td>\n",
              "      <td>50190</td>\n",
              "      <td>193264</td>\n",
              "      <td>15</td>\n",
              "      <td>YES</td>\n",
              "    </tr>\n",
              "    <tr>\n",
              "      <th>4</th>\n",
              "      <td>NO</td>\n",
              "      <td>Married</td>\n",
              "      <td>81002</td>\n",
              "      <td>27533</td>\n",
              "      <td>28</td>\n",
              "      <td>NO</td>\n",
              "    </tr>\n",
              "  </tbody>\n",
              "</table>\n",
              "</div>\n",
              "      <button class=\"colab-df-convert\" onclick=\"convertToInteractive('df-0f57a3fd-5b70-4bb0-a07a-5f58ae40a689')\"\n",
              "              title=\"Convert this dataframe to an interactive table.\"\n",
              "              style=\"display:none;\">\n",
              "        \n",
              "  <svg xmlns=\"http://www.w3.org/2000/svg\" height=\"24px\"viewBox=\"0 0 24 24\"\n",
              "       width=\"24px\">\n",
              "    <path d=\"M0 0h24v24H0V0z\" fill=\"none\"/>\n",
              "    <path d=\"M18.56 5.44l.94 2.06.94-2.06 2.06-.94-2.06-.94-.94-2.06-.94 2.06-2.06.94zm-11 1L8.5 8.5l.94-2.06 2.06-.94-2.06-.94L8.5 2.5l-.94 2.06-2.06.94zm10 10l.94 2.06.94-2.06 2.06-.94-2.06-.94-.94-2.06-.94 2.06-2.06.94z\"/><path d=\"M17.41 7.96l-1.37-1.37c-.4-.4-.92-.59-1.43-.59-.52 0-1.04.2-1.43.59L10.3 9.45l-7.72 7.72c-.78.78-.78 2.05 0 2.83L4 21.41c.39.39.9.59 1.41.59.51 0 1.02-.2 1.41-.59l7.78-7.78 2.81-2.81c.8-.78.8-2.07 0-2.86zM5.41 20L4 18.59l7.72-7.72 1.47 1.35L5.41 20z\"/>\n",
              "  </svg>\n",
              "      </button>\n",
              "      \n",
              "  <style>\n",
              "    .colab-df-container {\n",
              "      display:flex;\n",
              "      flex-wrap:wrap;\n",
              "      gap: 12px;\n",
              "    }\n",
              "\n",
              "    .colab-df-convert {\n",
              "      background-color: #E8F0FE;\n",
              "      border: none;\n",
              "      border-radius: 50%;\n",
              "      cursor: pointer;\n",
              "      display: none;\n",
              "      fill: #1967D2;\n",
              "      height: 32px;\n",
              "      padding: 0 0 0 0;\n",
              "      width: 32px;\n",
              "    }\n",
              "\n",
              "    .colab-df-convert:hover {\n",
              "      background-color: #E2EBFA;\n",
              "      box-shadow: 0px 1px 2px rgba(60, 64, 67, 0.3), 0px 1px 3px 1px rgba(60, 64, 67, 0.15);\n",
              "      fill: #174EA6;\n",
              "    }\n",
              "\n",
              "    [theme=dark] .colab-df-convert {\n",
              "      background-color: #3B4455;\n",
              "      fill: #D2E3FC;\n",
              "    }\n",
              "\n",
              "    [theme=dark] .colab-df-convert:hover {\n",
              "      background-color: #434B5C;\n",
              "      box-shadow: 0px 1px 3px 1px rgba(0, 0, 0, 0.15);\n",
              "      filter: drop-shadow(0px 1px 2px rgba(0, 0, 0, 0.3));\n",
              "      fill: #FFFFFF;\n",
              "    }\n",
              "  </style>\n",
              "\n",
              "      <script>\n",
              "        const buttonEl =\n",
              "          document.querySelector('#df-0f57a3fd-5b70-4bb0-a07a-5f58ae40a689 button.colab-df-convert');\n",
              "        buttonEl.style.display =\n",
              "          google.colab.kernel.accessAllowed ? 'block' : 'none';\n",
              "\n",
              "        async function convertToInteractive(key) {\n",
              "          const element = document.querySelector('#df-0f57a3fd-5b70-4bb0-a07a-5f58ae40a689');\n",
              "          const dataTable =\n",
              "            await google.colab.kernel.invokeFunction('convertToInteractive',\n",
              "                                                     [key], {});\n",
              "          if (!dataTable) return;\n",
              "\n",
              "          const docLinkHtml = 'Like what you see? Visit the ' +\n",
              "            '<a target=\"_blank\" href=https://colab.research.google.com/notebooks/data_table.ipynb>data table notebook</a>'\n",
              "            + ' to learn more about interactive tables.';\n",
              "          element.innerHTML = '';\n",
              "          dataTable['output_type'] = 'display_data';\n",
              "          await google.colab.output.renderOutput(dataTable, element);\n",
              "          const docLink = document.createElement('div');\n",
              "          docLink.innerHTML = docLinkHtml;\n",
              "          element.appendChild(docLink);\n",
              "        }\n",
              "      </script>\n",
              "    </div>\n",
              "  </div>\n",
              "  "
            ]
          },
          "metadata": {},
          "execution_count": 6
        }
      ]
    },
    {
      "cell_type": "code",
      "source": [],
      "metadata": {
        "id": "dm3wdKLnK58C"
      },
      "execution_count": null,
      "outputs": []
    },
    {
      "cell_type": "code",
      "source": [
        "# Basic information of the dataset"
      ],
      "metadata": {
        "id": "-mGJ9Z3VKw1W"
      },
      "execution_count": null,
      "outputs": []
    },
    {
      "cell_type": "code",
      "source": [
        "f_c.info()"
      ],
      "metadata": {
        "id": "uMPe6MZ0Jikq",
        "colab": {
          "base_uri": "https://localhost:8080/"
        },
        "outputId": "14edb316-0327-485e-bc5e-fecfe8c0715c"
      },
      "execution_count": null,
      "outputs": [
        {
          "output_type": "stream",
          "name": "stdout",
          "text": [
            "<class 'pandas.core.frame.DataFrame'>\n",
            "RangeIndex: 600 entries, 0 to 599\n",
            "Data columns (total 6 columns):\n",
            " #   Column           Non-Null Count  Dtype \n",
            "---  ------           --------------  ----- \n",
            " 0   Undergrad        600 non-null    object\n",
            " 1   Marital.Status   600 non-null    object\n",
            " 2   Taxable.Income   600 non-null    int64 \n",
            " 3   City.Population  600 non-null    int64 \n",
            " 4   Work.Experience  600 non-null    int64 \n",
            " 5   Urban            600 non-null    object\n",
            "dtypes: int64(3), object(3)\n",
            "memory usage: 28.2+ KB\n"
          ]
        }
      ]
    },
    {
      "cell_type": "code",
      "source": [],
      "metadata": {
        "id": "jTehtYowK8Ap"
      },
      "execution_count": null,
      "outputs": []
    },
    {
      "cell_type": "code",
      "source": [
        "# Checking for Null values"
      ],
      "metadata": {
        "id": "uo9rvqtpJm0S"
      },
      "execution_count": null,
      "outputs": []
    },
    {
      "cell_type": "code",
      "source": [
        "f_c.isnull().sum()"
      ],
      "metadata": {
        "colab": {
          "base_uri": "https://localhost:8080/"
        },
        "id": "x5yry_MsJiyF",
        "outputId": "a6be58bc-92fe-4e17-e875-022a4ea6c8a1"
      },
      "execution_count": null,
      "outputs": [
        {
          "output_type": "execute_result",
          "data": {
            "text/plain": [
              "Undergrad          0\n",
              "Marital.Status     0\n",
              "Taxable.Income     0\n",
              "City.Population    0\n",
              "Work.Experience    0\n",
              "Urban              0\n",
              "dtype: int64"
            ]
          },
          "metadata": {},
          "execution_count": 10
        }
      ]
    },
    {
      "cell_type": "code",
      "source": [],
      "metadata": {
        "id": "gU5S7r9XCJqt"
      },
      "execution_count": null,
      "outputs": []
    },
    {
      "cell_type": "code",
      "source": [
        "# Dropping the City population column as it is not required."
      ],
      "metadata": {
        "id": "oVozUe6Xeibn"
      },
      "execution_count": null,
      "outputs": []
    },
    {
      "cell_type": "code",
      "source": [
        "FC = f_c.drop(['City.Population'],axis=1)"
      ],
      "metadata": {
        "id": "UygzjOv_etRh"
      },
      "execution_count": null,
      "outputs": []
    },
    {
      "cell_type": "code",
      "source": [
        "FC"
      ],
      "metadata": {
        "colab": {
          "base_uri": "https://localhost:8080/",
          "height": 423
        },
        "id": "pxkuKEZge76j",
        "outputId": "a3450fd7-78c6-4aec-c7da-5e9d1c727fb3"
      },
      "execution_count": null,
      "outputs": [
        {
          "output_type": "execute_result",
          "data": {
            "text/plain": [
              "    Undergrad Marital.Status  Taxable.Income  Work.Experience Urban\n",
              "0          NO         Single           68833               10   YES\n",
              "1         YES       Divorced           33700               18   YES\n",
              "2          NO        Married           36925               30   YES\n",
              "3         YES         Single           50190               15   YES\n",
              "4          NO        Married           81002               28    NO\n",
              "..        ...            ...             ...              ...   ...\n",
              "595       YES       Divorced           76340                7   YES\n",
              "596       YES       Divorced           69967                2   YES\n",
              "597        NO       Divorced           47334                0   YES\n",
              "598       YES        Married           98592               17    NO\n",
              "599        NO       Divorced           96519               16    NO\n",
              "\n",
              "[600 rows x 5 columns]"
            ],
            "text/html": [
              "\n",
              "  <div id=\"df-811564e3-d7de-4f9f-b7ba-6a9c0f469555\">\n",
              "    <div class=\"colab-df-container\">\n",
              "      <div>\n",
              "<style scoped>\n",
              "    .dataframe tbody tr th:only-of-type {\n",
              "        vertical-align: middle;\n",
              "    }\n",
              "\n",
              "    .dataframe tbody tr th {\n",
              "        vertical-align: top;\n",
              "    }\n",
              "\n",
              "    .dataframe thead th {\n",
              "        text-align: right;\n",
              "    }\n",
              "</style>\n",
              "<table border=\"1\" class=\"dataframe\">\n",
              "  <thead>\n",
              "    <tr style=\"text-align: right;\">\n",
              "      <th></th>\n",
              "      <th>Undergrad</th>\n",
              "      <th>Marital.Status</th>\n",
              "      <th>Taxable.Income</th>\n",
              "      <th>Work.Experience</th>\n",
              "      <th>Urban</th>\n",
              "    </tr>\n",
              "  </thead>\n",
              "  <tbody>\n",
              "    <tr>\n",
              "      <th>0</th>\n",
              "      <td>NO</td>\n",
              "      <td>Single</td>\n",
              "      <td>68833</td>\n",
              "      <td>10</td>\n",
              "      <td>YES</td>\n",
              "    </tr>\n",
              "    <tr>\n",
              "      <th>1</th>\n",
              "      <td>YES</td>\n",
              "      <td>Divorced</td>\n",
              "      <td>33700</td>\n",
              "      <td>18</td>\n",
              "      <td>YES</td>\n",
              "    </tr>\n",
              "    <tr>\n",
              "      <th>2</th>\n",
              "      <td>NO</td>\n",
              "      <td>Married</td>\n",
              "      <td>36925</td>\n",
              "      <td>30</td>\n",
              "      <td>YES</td>\n",
              "    </tr>\n",
              "    <tr>\n",
              "      <th>3</th>\n",
              "      <td>YES</td>\n",
              "      <td>Single</td>\n",
              "      <td>50190</td>\n",
              "      <td>15</td>\n",
              "      <td>YES</td>\n",
              "    </tr>\n",
              "    <tr>\n",
              "      <th>4</th>\n",
              "      <td>NO</td>\n",
              "      <td>Married</td>\n",
              "      <td>81002</td>\n",
              "      <td>28</td>\n",
              "      <td>NO</td>\n",
              "    </tr>\n",
              "    <tr>\n",
              "      <th>...</th>\n",
              "      <td>...</td>\n",
              "      <td>...</td>\n",
              "      <td>...</td>\n",
              "      <td>...</td>\n",
              "      <td>...</td>\n",
              "    </tr>\n",
              "    <tr>\n",
              "      <th>595</th>\n",
              "      <td>YES</td>\n",
              "      <td>Divorced</td>\n",
              "      <td>76340</td>\n",
              "      <td>7</td>\n",
              "      <td>YES</td>\n",
              "    </tr>\n",
              "    <tr>\n",
              "      <th>596</th>\n",
              "      <td>YES</td>\n",
              "      <td>Divorced</td>\n",
              "      <td>69967</td>\n",
              "      <td>2</td>\n",
              "      <td>YES</td>\n",
              "    </tr>\n",
              "    <tr>\n",
              "      <th>597</th>\n",
              "      <td>NO</td>\n",
              "      <td>Divorced</td>\n",
              "      <td>47334</td>\n",
              "      <td>0</td>\n",
              "      <td>YES</td>\n",
              "    </tr>\n",
              "    <tr>\n",
              "      <th>598</th>\n",
              "      <td>YES</td>\n",
              "      <td>Married</td>\n",
              "      <td>98592</td>\n",
              "      <td>17</td>\n",
              "      <td>NO</td>\n",
              "    </tr>\n",
              "    <tr>\n",
              "      <th>599</th>\n",
              "      <td>NO</td>\n",
              "      <td>Divorced</td>\n",
              "      <td>96519</td>\n",
              "      <td>16</td>\n",
              "      <td>NO</td>\n",
              "    </tr>\n",
              "  </tbody>\n",
              "</table>\n",
              "<p>600 rows × 5 columns</p>\n",
              "</div>\n",
              "      <button class=\"colab-df-convert\" onclick=\"convertToInteractive('df-811564e3-d7de-4f9f-b7ba-6a9c0f469555')\"\n",
              "              title=\"Convert this dataframe to an interactive table.\"\n",
              "              style=\"display:none;\">\n",
              "        \n",
              "  <svg xmlns=\"http://www.w3.org/2000/svg\" height=\"24px\"viewBox=\"0 0 24 24\"\n",
              "       width=\"24px\">\n",
              "    <path d=\"M0 0h24v24H0V0z\" fill=\"none\"/>\n",
              "    <path d=\"M18.56 5.44l.94 2.06.94-2.06 2.06-.94-2.06-.94-.94-2.06-.94 2.06-2.06.94zm-11 1L8.5 8.5l.94-2.06 2.06-.94-2.06-.94L8.5 2.5l-.94 2.06-2.06.94zm10 10l.94 2.06.94-2.06 2.06-.94-2.06-.94-.94-2.06-.94 2.06-2.06.94z\"/><path d=\"M17.41 7.96l-1.37-1.37c-.4-.4-.92-.59-1.43-.59-.52 0-1.04.2-1.43.59L10.3 9.45l-7.72 7.72c-.78.78-.78 2.05 0 2.83L4 21.41c.39.39.9.59 1.41.59.51 0 1.02-.2 1.41-.59l7.78-7.78 2.81-2.81c.8-.78.8-2.07 0-2.86zM5.41 20L4 18.59l7.72-7.72 1.47 1.35L5.41 20z\"/>\n",
              "  </svg>\n",
              "      </button>\n",
              "      \n",
              "  <style>\n",
              "    .colab-df-container {\n",
              "      display:flex;\n",
              "      flex-wrap:wrap;\n",
              "      gap: 12px;\n",
              "    }\n",
              "\n",
              "    .colab-df-convert {\n",
              "      background-color: #E8F0FE;\n",
              "      border: none;\n",
              "      border-radius: 50%;\n",
              "      cursor: pointer;\n",
              "      display: none;\n",
              "      fill: #1967D2;\n",
              "      height: 32px;\n",
              "      padding: 0 0 0 0;\n",
              "      width: 32px;\n",
              "    }\n",
              "\n",
              "    .colab-df-convert:hover {\n",
              "      background-color: #E2EBFA;\n",
              "      box-shadow: 0px 1px 2px rgba(60, 64, 67, 0.3), 0px 1px 3px 1px rgba(60, 64, 67, 0.15);\n",
              "      fill: #174EA6;\n",
              "    }\n",
              "\n",
              "    [theme=dark] .colab-df-convert {\n",
              "      background-color: #3B4455;\n",
              "      fill: #D2E3FC;\n",
              "    }\n",
              "\n",
              "    [theme=dark] .colab-df-convert:hover {\n",
              "      background-color: #434B5C;\n",
              "      box-shadow: 0px 1px 3px 1px rgba(0, 0, 0, 0.15);\n",
              "      filter: drop-shadow(0px 1px 2px rgba(0, 0, 0, 0.3));\n",
              "      fill: #FFFFFF;\n",
              "    }\n",
              "  </style>\n",
              "\n",
              "      <script>\n",
              "        const buttonEl =\n",
              "          document.querySelector('#df-811564e3-d7de-4f9f-b7ba-6a9c0f469555 button.colab-df-convert');\n",
              "        buttonEl.style.display =\n",
              "          google.colab.kernel.accessAllowed ? 'block' : 'none';\n",
              "\n",
              "        async function convertToInteractive(key) {\n",
              "          const element = document.querySelector('#df-811564e3-d7de-4f9f-b7ba-6a9c0f469555');\n",
              "          const dataTable =\n",
              "            await google.colab.kernel.invokeFunction('convertToInteractive',\n",
              "                                                     [key], {});\n",
              "          if (!dataTable) return;\n",
              "\n",
              "          const docLinkHtml = 'Like what you see? Visit the ' +\n",
              "            '<a target=\"_blank\" href=https://colab.research.google.com/notebooks/data_table.ipynb>data table notebook</a>'\n",
              "            + ' to learn more about interactive tables.';\n",
              "          element.innerHTML = '';\n",
              "          dataTable['output_type'] = 'display_data';\n",
              "          await google.colab.output.renderOutput(dataTable, element);\n",
              "          const docLink = document.createElement('div');\n",
              "          docLink.innerHTML = docLinkHtml;\n",
              "          element.appendChild(docLink);\n",
              "        }\n",
              "      </script>\n",
              "    </div>\n",
              "  </div>\n",
              "  "
            ]
          },
          "metadata": {},
          "execution_count": 16
        }
      ]
    },
    {
      "cell_type": "code",
      "source": [
        "# Labelling the non numeriacal variables\n",
        "\n",
        "# Urban , Undergrad , Marital.Status "
      ],
      "metadata": {
        "id": "pjoRzM_cHJ2b"
      },
      "execution_count": null,
      "outputs": []
    },
    {
      "cell_type": "code",
      "source": [
        "label_encoder = preprocessing.LabelEncoder()"
      ],
      "metadata": {
        "id": "U6oAJqgsHUsD"
      },
      "execution_count": null,
      "outputs": []
    },
    {
      "cell_type": "code",
      "source": [
        "FC['Urban1'] = label_encoder.fit_transform(FC['Urban'])\n",
        "FC['Undergrad1'] = label_encoder.fit_transform(FC['Undergrad'])\n",
        "FC['Maritalstatus'] = label_encoder.fit_transform(FC['Marital.Status'])"
      ],
      "metadata": {
        "id": "ShlaLJkhHmKc"
      },
      "execution_count": null,
      "outputs": []
    },
    {
      "cell_type": "code",
      "source": [
        "FC"
      ],
      "metadata": {
        "colab": {
          "base_uri": "https://localhost:8080/",
          "height": 423
        },
        "id": "cJieq4XEITvV",
        "outputId": "34b2686d-7cd6-4ca4-cafa-860937a9f3fa"
      },
      "execution_count": null,
      "outputs": [
        {
          "output_type": "execute_result",
          "data": {
            "text/plain": [
              "    Undergrad Marital.Status  Taxable.Income  Work.Experience Urban  Urban1  \\\n",
              "0          NO         Single           68833               10   YES       1   \n",
              "1         YES       Divorced           33700               18   YES       1   \n",
              "2          NO        Married           36925               30   YES       1   \n",
              "3         YES         Single           50190               15   YES       1   \n",
              "4          NO        Married           81002               28    NO       0   \n",
              "..        ...            ...             ...              ...   ...     ...   \n",
              "595       YES       Divorced           76340                7   YES       1   \n",
              "596       YES       Divorced           69967                2   YES       1   \n",
              "597        NO       Divorced           47334                0   YES       1   \n",
              "598       YES        Married           98592               17    NO       0   \n",
              "599        NO       Divorced           96519               16    NO       0   \n",
              "\n",
              "     Undergrad1  Maritalstatus  \n",
              "0             0              2  \n",
              "1             1              0  \n",
              "2             0              1  \n",
              "3             1              2  \n",
              "4             0              1  \n",
              "..          ...            ...  \n",
              "595           1              0  \n",
              "596           1              0  \n",
              "597           0              0  \n",
              "598           1              1  \n",
              "599           0              0  \n",
              "\n",
              "[600 rows x 8 columns]"
            ],
            "text/html": [
              "\n",
              "  <div id=\"df-233164a3-2d63-4d4b-b5c0-3d47bec04cb9\">\n",
              "    <div class=\"colab-df-container\">\n",
              "      <div>\n",
              "<style scoped>\n",
              "    .dataframe tbody tr th:only-of-type {\n",
              "        vertical-align: middle;\n",
              "    }\n",
              "\n",
              "    .dataframe tbody tr th {\n",
              "        vertical-align: top;\n",
              "    }\n",
              "\n",
              "    .dataframe thead th {\n",
              "        text-align: right;\n",
              "    }\n",
              "</style>\n",
              "<table border=\"1\" class=\"dataframe\">\n",
              "  <thead>\n",
              "    <tr style=\"text-align: right;\">\n",
              "      <th></th>\n",
              "      <th>Undergrad</th>\n",
              "      <th>Marital.Status</th>\n",
              "      <th>Taxable.Income</th>\n",
              "      <th>Work.Experience</th>\n",
              "      <th>Urban</th>\n",
              "      <th>Urban1</th>\n",
              "      <th>Undergrad1</th>\n",
              "      <th>Maritalstatus</th>\n",
              "    </tr>\n",
              "  </thead>\n",
              "  <tbody>\n",
              "    <tr>\n",
              "      <th>0</th>\n",
              "      <td>NO</td>\n",
              "      <td>Single</td>\n",
              "      <td>68833</td>\n",
              "      <td>10</td>\n",
              "      <td>YES</td>\n",
              "      <td>1</td>\n",
              "      <td>0</td>\n",
              "      <td>2</td>\n",
              "    </tr>\n",
              "    <tr>\n",
              "      <th>1</th>\n",
              "      <td>YES</td>\n",
              "      <td>Divorced</td>\n",
              "      <td>33700</td>\n",
              "      <td>18</td>\n",
              "      <td>YES</td>\n",
              "      <td>1</td>\n",
              "      <td>1</td>\n",
              "      <td>0</td>\n",
              "    </tr>\n",
              "    <tr>\n",
              "      <th>2</th>\n",
              "      <td>NO</td>\n",
              "      <td>Married</td>\n",
              "      <td>36925</td>\n",
              "      <td>30</td>\n",
              "      <td>YES</td>\n",
              "      <td>1</td>\n",
              "      <td>0</td>\n",
              "      <td>1</td>\n",
              "    </tr>\n",
              "    <tr>\n",
              "      <th>3</th>\n",
              "      <td>YES</td>\n",
              "      <td>Single</td>\n",
              "      <td>50190</td>\n",
              "      <td>15</td>\n",
              "      <td>YES</td>\n",
              "      <td>1</td>\n",
              "      <td>1</td>\n",
              "      <td>2</td>\n",
              "    </tr>\n",
              "    <tr>\n",
              "      <th>4</th>\n",
              "      <td>NO</td>\n",
              "      <td>Married</td>\n",
              "      <td>81002</td>\n",
              "      <td>28</td>\n",
              "      <td>NO</td>\n",
              "      <td>0</td>\n",
              "      <td>0</td>\n",
              "      <td>1</td>\n",
              "    </tr>\n",
              "    <tr>\n",
              "      <th>...</th>\n",
              "      <td>...</td>\n",
              "      <td>...</td>\n",
              "      <td>...</td>\n",
              "      <td>...</td>\n",
              "      <td>...</td>\n",
              "      <td>...</td>\n",
              "      <td>...</td>\n",
              "      <td>...</td>\n",
              "    </tr>\n",
              "    <tr>\n",
              "      <th>595</th>\n",
              "      <td>YES</td>\n",
              "      <td>Divorced</td>\n",
              "      <td>76340</td>\n",
              "      <td>7</td>\n",
              "      <td>YES</td>\n",
              "      <td>1</td>\n",
              "      <td>1</td>\n",
              "      <td>0</td>\n",
              "    </tr>\n",
              "    <tr>\n",
              "      <th>596</th>\n",
              "      <td>YES</td>\n",
              "      <td>Divorced</td>\n",
              "      <td>69967</td>\n",
              "      <td>2</td>\n",
              "      <td>YES</td>\n",
              "      <td>1</td>\n",
              "      <td>1</td>\n",
              "      <td>0</td>\n",
              "    </tr>\n",
              "    <tr>\n",
              "      <th>597</th>\n",
              "      <td>NO</td>\n",
              "      <td>Divorced</td>\n",
              "      <td>47334</td>\n",
              "      <td>0</td>\n",
              "      <td>YES</td>\n",
              "      <td>1</td>\n",
              "      <td>0</td>\n",
              "      <td>0</td>\n",
              "    </tr>\n",
              "    <tr>\n",
              "      <th>598</th>\n",
              "      <td>YES</td>\n",
              "      <td>Married</td>\n",
              "      <td>98592</td>\n",
              "      <td>17</td>\n",
              "      <td>NO</td>\n",
              "      <td>0</td>\n",
              "      <td>1</td>\n",
              "      <td>1</td>\n",
              "    </tr>\n",
              "    <tr>\n",
              "      <th>599</th>\n",
              "      <td>NO</td>\n",
              "      <td>Divorced</td>\n",
              "      <td>96519</td>\n",
              "      <td>16</td>\n",
              "      <td>NO</td>\n",
              "      <td>0</td>\n",
              "      <td>0</td>\n",
              "      <td>0</td>\n",
              "    </tr>\n",
              "  </tbody>\n",
              "</table>\n",
              "<p>600 rows × 8 columns</p>\n",
              "</div>\n",
              "      <button class=\"colab-df-convert\" onclick=\"convertToInteractive('df-233164a3-2d63-4d4b-b5c0-3d47bec04cb9')\"\n",
              "              title=\"Convert this dataframe to an interactive table.\"\n",
              "              style=\"display:none;\">\n",
              "        \n",
              "  <svg xmlns=\"http://www.w3.org/2000/svg\" height=\"24px\"viewBox=\"0 0 24 24\"\n",
              "       width=\"24px\">\n",
              "    <path d=\"M0 0h24v24H0V0z\" fill=\"none\"/>\n",
              "    <path d=\"M18.56 5.44l.94 2.06.94-2.06 2.06-.94-2.06-.94-.94-2.06-.94 2.06-2.06.94zm-11 1L8.5 8.5l.94-2.06 2.06-.94-2.06-.94L8.5 2.5l-.94 2.06-2.06.94zm10 10l.94 2.06.94-2.06 2.06-.94-2.06-.94-.94-2.06-.94 2.06-2.06.94z\"/><path d=\"M17.41 7.96l-1.37-1.37c-.4-.4-.92-.59-1.43-.59-.52 0-1.04.2-1.43.59L10.3 9.45l-7.72 7.72c-.78.78-.78 2.05 0 2.83L4 21.41c.39.39.9.59 1.41.59.51 0 1.02-.2 1.41-.59l7.78-7.78 2.81-2.81c.8-.78.8-2.07 0-2.86zM5.41 20L4 18.59l7.72-7.72 1.47 1.35L5.41 20z\"/>\n",
              "  </svg>\n",
              "      </button>\n",
              "      \n",
              "  <style>\n",
              "    .colab-df-container {\n",
              "      display:flex;\n",
              "      flex-wrap:wrap;\n",
              "      gap: 12px;\n",
              "    }\n",
              "\n",
              "    .colab-df-convert {\n",
              "      background-color: #E8F0FE;\n",
              "      border: none;\n",
              "      border-radius: 50%;\n",
              "      cursor: pointer;\n",
              "      display: none;\n",
              "      fill: #1967D2;\n",
              "      height: 32px;\n",
              "      padding: 0 0 0 0;\n",
              "      width: 32px;\n",
              "    }\n",
              "\n",
              "    .colab-df-convert:hover {\n",
              "      background-color: #E2EBFA;\n",
              "      box-shadow: 0px 1px 2px rgba(60, 64, 67, 0.3), 0px 1px 3px 1px rgba(60, 64, 67, 0.15);\n",
              "      fill: #174EA6;\n",
              "    }\n",
              "\n",
              "    [theme=dark] .colab-df-convert {\n",
              "      background-color: #3B4455;\n",
              "      fill: #D2E3FC;\n",
              "    }\n",
              "\n",
              "    [theme=dark] .colab-df-convert:hover {\n",
              "      background-color: #434B5C;\n",
              "      box-shadow: 0px 1px 3px 1px rgba(0, 0, 0, 0.15);\n",
              "      filter: drop-shadow(0px 1px 2px rgba(0, 0, 0, 0.3));\n",
              "      fill: #FFFFFF;\n",
              "    }\n",
              "  </style>\n",
              "\n",
              "      <script>\n",
              "        const buttonEl =\n",
              "          document.querySelector('#df-233164a3-2d63-4d4b-b5c0-3d47bec04cb9 button.colab-df-convert');\n",
              "        buttonEl.style.display =\n",
              "          google.colab.kernel.accessAllowed ? 'block' : 'none';\n",
              "\n",
              "        async function convertToInteractive(key) {\n",
              "          const element = document.querySelector('#df-233164a3-2d63-4d4b-b5c0-3d47bec04cb9');\n",
              "          const dataTable =\n",
              "            await google.colab.kernel.invokeFunction('convertToInteractive',\n",
              "                                                     [key], {});\n",
              "          if (!dataTable) return;\n",
              "\n",
              "          const docLinkHtml = 'Like what you see? Visit the ' +\n",
              "            '<a target=\"_blank\" href=https://colab.research.google.com/notebooks/data_table.ipynb>data table notebook</a>'\n",
              "            + ' to learn more about interactive tables.';\n",
              "          element.innerHTML = '';\n",
              "          dataTable['output_type'] = 'display_data';\n",
              "          await google.colab.output.renderOutput(dataTable, element);\n",
              "          const docLink = document.createElement('div');\n",
              "          docLink.innerHTML = docLinkHtml;\n",
              "          element.appendChild(docLink);\n",
              "        }\n",
              "      </script>\n",
              "    </div>\n",
              "  </div>\n",
              "  "
            ]
          },
          "metadata": {},
          "execution_count": 20
        }
      ]
    },
    {
      "cell_type": "code",
      "source": [],
      "metadata": {
        "id": "ErlOzMPZQxUO"
      },
      "execution_count": null,
      "outputs": []
    },
    {
      "cell_type": "code",
      "source": [
        "# Now, we need to add one extra column for risk in taxable column\n",
        "\n",
        "# if taxable income <= 30,000  , it is risky\n",
        "# if taxable income > = 30,000  , it is good."
      ],
      "metadata": {
        "id": "XgrrGtvmQxmh"
      },
      "execution_count": null,
      "outputs": []
    },
    {
      "cell_type": "code",
      "source": [
        "ti_check = []\n",
        "for i in f_c['Taxable.Income']:\n",
        "  if i<= 30000:\n",
        "    print('risky')\n",
        "  else:\n",
        "    print('good') \n",
        "     "
      ],
      "metadata": {
        "colab": {
          "base_uri": "https://localhost:8080/"
        },
        "id": "jEm8q8z-RNZo",
        "outputId": "4be4d7df-d9bf-4dde-de72-fb6cdd416a97"
      },
      "execution_count": null,
      "outputs": [
        {
          "output_type": "stream",
          "name": "stdout",
          "text": [
            "good\n",
            "good\n",
            "good\n",
            "good\n",
            "good\n",
            "good\n",
            "good\n",
            "good\n",
            "good\n",
            "good\n",
            "risky\n",
            "good\n",
            "risky\n",
            "good\n",
            "good\n",
            "good\n",
            "risky\n",
            "good\n",
            "good\n",
            "risky\n",
            "good\n",
            "risky\n",
            "good\n",
            "good\n",
            "good\n",
            "good\n",
            "good\n",
            "good\n",
            "risky\n",
            "good\n",
            "good\n",
            "good\n",
            "good\n",
            "good\n",
            "risky\n",
            "good\n",
            "risky\n",
            "good\n",
            "risky\n",
            "good\n",
            "good\n",
            "good\n",
            "good\n",
            "good\n",
            "good\n",
            "good\n",
            "good\n",
            "good\n",
            "risky\n",
            "good\n",
            "good\n",
            "good\n",
            "good\n",
            "risky\n",
            "good\n",
            "risky\n",
            "good\n",
            "good\n",
            "risky\n",
            "good\n",
            "good\n",
            "risky\n",
            "good\n",
            "good\n",
            "good\n",
            "good\n",
            "good\n",
            "good\n",
            "risky\n",
            "good\n",
            "good\n",
            "good\n",
            "good\n",
            "good\n",
            "good\n",
            "good\n",
            "good\n",
            "good\n",
            "good\n",
            "risky\n",
            "good\n",
            "good\n",
            "good\n",
            "good\n",
            "good\n",
            "risky\n",
            "good\n",
            "risky\n",
            "good\n",
            "risky\n",
            "good\n",
            "good\n",
            "good\n",
            "risky\n",
            "risky\n",
            "good\n",
            "risky\n",
            "good\n",
            "risky\n",
            "good\n",
            "good\n",
            "good\n",
            "good\n",
            "good\n",
            "good\n",
            "good\n",
            "risky\n",
            "good\n",
            "good\n",
            "good\n",
            "risky\n",
            "good\n",
            "good\n",
            "good\n",
            "risky\n",
            "good\n",
            "good\n",
            "good\n",
            "risky\n",
            "good\n",
            "good\n",
            "risky\n",
            "risky\n",
            "risky\n",
            "good\n",
            "good\n",
            "risky\n",
            "good\n",
            "good\n",
            "good\n",
            "good\n",
            "good\n",
            "good\n",
            "good\n",
            "good\n",
            "risky\n",
            "good\n",
            "risky\n",
            "good\n",
            "good\n",
            "risky\n",
            "good\n",
            "good\n",
            "risky\n",
            "good\n",
            "good\n",
            "good\n",
            "good\n",
            "good\n",
            "good\n",
            "good\n",
            "good\n",
            "risky\n",
            "risky\n",
            "risky\n",
            "good\n",
            "good\n",
            "good\n",
            "risky\n",
            "good\n",
            "good\n",
            "good\n",
            "good\n",
            "risky\n",
            "good\n",
            "good\n",
            "good\n",
            "good\n",
            "risky\n",
            "good\n",
            "good\n",
            "risky\n",
            "risky\n",
            "good\n",
            "good\n",
            "good\n",
            "good\n",
            "good\n",
            "good\n",
            "risky\n",
            "good\n",
            "risky\n",
            "risky\n",
            "good\n",
            "good\n",
            "good\n",
            "good\n",
            "good\n",
            "risky\n",
            "good\n",
            "good\n",
            "good\n",
            "good\n",
            "good\n",
            "risky\n",
            "good\n",
            "risky\n",
            "good\n",
            "good\n",
            "risky\n",
            "good\n",
            "good\n",
            "good\n",
            "good\n",
            "risky\n",
            "risky\n",
            "good\n",
            "risky\n",
            "good\n",
            "good\n",
            "good\n",
            "good\n",
            "good\n",
            "good\n",
            "good\n",
            "good\n",
            "good\n",
            "good\n",
            "good\n",
            "risky\n",
            "good\n",
            "good\n",
            "good\n",
            "good\n",
            "good\n",
            "good\n",
            "good\n",
            "good\n",
            "risky\n",
            "good\n",
            "risky\n",
            "good\n",
            "risky\n",
            "risky\n",
            "good\n",
            "good\n",
            "good\n",
            "risky\n",
            "good\n",
            "good\n",
            "good\n",
            "risky\n",
            "good\n",
            "good\n",
            "good\n",
            "good\n",
            "good\n",
            "risky\n",
            "risky\n",
            "good\n",
            "good\n",
            "good\n",
            "good\n",
            "good\n",
            "good\n",
            "good\n",
            "good\n",
            "good\n",
            "good\n",
            "risky\n",
            "good\n",
            "good\n",
            "good\n",
            "good\n",
            "good\n",
            "risky\n",
            "good\n",
            "risky\n",
            "good\n",
            "good\n",
            "good\n",
            "good\n",
            "good\n",
            "good\n",
            "good\n",
            "good\n",
            "good\n",
            "good\n",
            "risky\n",
            "good\n",
            "risky\n",
            "good\n",
            "good\n",
            "good\n",
            "risky\n",
            "good\n",
            "good\n",
            "good\n",
            "risky\n",
            "good\n",
            "good\n",
            "good\n",
            "risky\n",
            "good\n",
            "good\n",
            "good\n",
            "good\n",
            "good\n",
            "good\n",
            "good\n",
            "good\n",
            "risky\n",
            "good\n",
            "good\n",
            "good\n",
            "good\n",
            "good\n",
            "good\n",
            "good\n",
            "good\n",
            "good\n",
            "good\n",
            "good\n",
            "good\n",
            "good\n",
            "risky\n",
            "good\n",
            "good\n",
            "good\n",
            "good\n",
            "good\n",
            "good\n",
            "good\n",
            "good\n",
            "good\n",
            "good\n",
            "risky\n",
            "risky\n",
            "good\n",
            "risky\n",
            "good\n",
            "risky\n",
            "good\n",
            "risky\n",
            "good\n",
            "good\n",
            "good\n",
            "risky\n",
            "risky\n",
            "risky\n",
            "good\n",
            "good\n",
            "good\n",
            "good\n",
            "good\n",
            "good\n",
            "risky\n",
            "risky\n",
            "good\n",
            "risky\n",
            "good\n",
            "good\n",
            "risky\n",
            "good\n",
            "risky\n",
            "good\n",
            "risky\n",
            "risky\n",
            "good\n",
            "good\n",
            "good\n",
            "good\n",
            "risky\n",
            "risky\n",
            "good\n",
            "good\n",
            "good\n",
            "risky\n",
            "good\n",
            "good\n",
            "good\n",
            "good\n",
            "good\n",
            "good\n",
            "good\n",
            "good\n",
            "good\n",
            "good\n",
            "good\n",
            "risky\n",
            "good\n",
            "good\n",
            "good\n",
            "good\n",
            "good\n",
            "good\n",
            "good\n",
            "good\n",
            "good\n",
            "good\n",
            "good\n",
            "good\n",
            "risky\n",
            "good\n",
            "good\n",
            "good\n",
            "good\n",
            "good\n",
            "risky\n",
            "good\n",
            "good\n",
            "good\n",
            "good\n",
            "good\n",
            "good\n",
            "good\n",
            "good\n",
            "good\n",
            "good\n",
            "good\n",
            "good\n",
            "good\n",
            "good\n",
            "good\n",
            "good\n",
            "good\n",
            "good\n",
            "good\n",
            "good\n",
            "good\n",
            "good\n",
            "good\n",
            "good\n",
            "good\n",
            "good\n",
            "good\n",
            "good\n",
            "good\n",
            "risky\n",
            "good\n",
            "good\n",
            "good\n",
            "good\n",
            "risky\n",
            "risky\n",
            "good\n",
            "good\n",
            "risky\n",
            "risky\n",
            "risky\n",
            "good\n",
            "good\n",
            "good\n",
            "risky\n",
            "risky\n",
            "good\n",
            "risky\n",
            "good\n",
            "good\n",
            "good\n",
            "good\n",
            "good\n",
            "good\n",
            "good\n",
            "good\n",
            "good\n",
            "good\n",
            "risky\n",
            "risky\n",
            "risky\n",
            "good\n",
            "good\n",
            "risky\n",
            "good\n",
            "good\n",
            "risky\n",
            "good\n",
            "good\n",
            "good\n",
            "good\n",
            "good\n",
            "risky\n",
            "good\n",
            "good\n",
            "good\n",
            "good\n",
            "good\n",
            "good\n",
            "good\n",
            "good\n",
            "good\n",
            "good\n",
            "good\n",
            "risky\n",
            "good\n",
            "good\n",
            "good\n",
            "good\n",
            "good\n",
            "good\n",
            "good\n",
            "risky\n",
            "good\n",
            "risky\n",
            "good\n",
            "good\n",
            "good\n",
            "good\n",
            "good\n",
            "good\n",
            "good\n",
            "good\n",
            "good\n",
            "good\n",
            "good\n",
            "good\n",
            "risky\n",
            "good\n",
            "good\n",
            "risky\n",
            "good\n",
            "good\n",
            "good\n",
            "good\n",
            "good\n",
            "good\n",
            "good\n",
            "risky\n",
            "good\n",
            "good\n",
            "good\n",
            "good\n",
            "good\n",
            "good\n",
            "risky\n",
            "good\n",
            "risky\n",
            "good\n",
            "good\n",
            "good\n",
            "good\n",
            "good\n",
            "good\n",
            "risky\n",
            "good\n",
            "good\n",
            "good\n",
            "good\n",
            "good\n",
            "good\n",
            "risky\n",
            "risky\n",
            "good\n",
            "good\n",
            "risky\n",
            "good\n",
            "good\n",
            "good\n",
            "good\n",
            "good\n",
            "good\n",
            "good\n",
            "good\n",
            "good\n",
            "good\n",
            "good\n",
            "good\n",
            "risky\n",
            "good\n",
            "good\n",
            "good\n",
            "good\n",
            "good\n",
            "good\n",
            "good\n",
            "good\n",
            "good\n",
            "risky\n",
            "good\n",
            "good\n",
            "good\n",
            "good\n",
            "good\n",
            "good\n",
            "good\n",
            "risky\n",
            "good\n",
            "good\n",
            "good\n",
            "good\n",
            "good\n",
            "good\n",
            "good\n",
            "good\n",
            "good\n",
            "good\n",
            "good\n",
            "good\n",
            "good\n",
            "good\n",
            "good\n",
            "risky\n",
            "good\n",
            "good\n",
            "good\n",
            "good\n",
            "good\n",
            "good\n",
            "good\n",
            "good\n"
          ]
        }
      ]
    },
    {
      "cell_type": "code",
      "source": [
        "FC['Taxable.Income']=pd.cut(FC['Taxable.Income'],bins=[0,30000,100000],labels=['risky','good'])"
      ],
      "metadata": {
        "id": "eDIiyqgORNeJ"
      },
      "execution_count": null,
      "outputs": []
    },
    {
      "cell_type": "code",
      "source": [
        "FC"
      ],
      "metadata": {
        "id": "c1MMJaKNRNh5",
        "colab": {
          "base_uri": "https://localhost:8080/",
          "height": 423
        },
        "outputId": "01ff925e-e486-4289-cf06-b686e57f090f"
      },
      "execution_count": null,
      "outputs": [
        {
          "output_type": "execute_result",
          "data": {
            "text/plain": [
              "    Undergrad Marital.Status Taxable.Income  Work.Experience Urban  Urban1  \\\n",
              "0          NO         Single           good               10   YES       1   \n",
              "1         YES       Divorced           good               18   YES       1   \n",
              "2          NO        Married           good               30   YES       1   \n",
              "3         YES         Single           good               15   YES       1   \n",
              "4          NO        Married           good               28    NO       0   \n",
              "..        ...            ...            ...              ...   ...     ...   \n",
              "595       YES       Divorced           good                7   YES       1   \n",
              "596       YES       Divorced           good                2   YES       1   \n",
              "597        NO       Divorced           good                0   YES       1   \n",
              "598       YES        Married           good               17    NO       0   \n",
              "599        NO       Divorced           good               16    NO       0   \n",
              "\n",
              "     Undergrad1  Maritalstatus  \n",
              "0             0              2  \n",
              "1             1              0  \n",
              "2             0              1  \n",
              "3             1              2  \n",
              "4             0              1  \n",
              "..          ...            ...  \n",
              "595           1              0  \n",
              "596           1              0  \n",
              "597           0              0  \n",
              "598           1              1  \n",
              "599           0              0  \n",
              "\n",
              "[600 rows x 8 columns]"
            ],
            "text/html": [
              "\n",
              "  <div id=\"df-3eabb639-b7c2-4528-b45a-21b591a91913\">\n",
              "    <div class=\"colab-df-container\">\n",
              "      <div>\n",
              "<style scoped>\n",
              "    .dataframe tbody tr th:only-of-type {\n",
              "        vertical-align: middle;\n",
              "    }\n",
              "\n",
              "    .dataframe tbody tr th {\n",
              "        vertical-align: top;\n",
              "    }\n",
              "\n",
              "    .dataframe thead th {\n",
              "        text-align: right;\n",
              "    }\n",
              "</style>\n",
              "<table border=\"1\" class=\"dataframe\">\n",
              "  <thead>\n",
              "    <tr style=\"text-align: right;\">\n",
              "      <th></th>\n",
              "      <th>Undergrad</th>\n",
              "      <th>Marital.Status</th>\n",
              "      <th>Taxable.Income</th>\n",
              "      <th>Work.Experience</th>\n",
              "      <th>Urban</th>\n",
              "      <th>Urban1</th>\n",
              "      <th>Undergrad1</th>\n",
              "      <th>Maritalstatus</th>\n",
              "    </tr>\n",
              "  </thead>\n",
              "  <tbody>\n",
              "    <tr>\n",
              "      <th>0</th>\n",
              "      <td>NO</td>\n",
              "      <td>Single</td>\n",
              "      <td>good</td>\n",
              "      <td>10</td>\n",
              "      <td>YES</td>\n",
              "      <td>1</td>\n",
              "      <td>0</td>\n",
              "      <td>2</td>\n",
              "    </tr>\n",
              "    <tr>\n",
              "      <th>1</th>\n",
              "      <td>YES</td>\n",
              "      <td>Divorced</td>\n",
              "      <td>good</td>\n",
              "      <td>18</td>\n",
              "      <td>YES</td>\n",
              "      <td>1</td>\n",
              "      <td>1</td>\n",
              "      <td>0</td>\n",
              "    </tr>\n",
              "    <tr>\n",
              "      <th>2</th>\n",
              "      <td>NO</td>\n",
              "      <td>Married</td>\n",
              "      <td>good</td>\n",
              "      <td>30</td>\n",
              "      <td>YES</td>\n",
              "      <td>1</td>\n",
              "      <td>0</td>\n",
              "      <td>1</td>\n",
              "    </tr>\n",
              "    <tr>\n",
              "      <th>3</th>\n",
              "      <td>YES</td>\n",
              "      <td>Single</td>\n",
              "      <td>good</td>\n",
              "      <td>15</td>\n",
              "      <td>YES</td>\n",
              "      <td>1</td>\n",
              "      <td>1</td>\n",
              "      <td>2</td>\n",
              "    </tr>\n",
              "    <tr>\n",
              "      <th>4</th>\n",
              "      <td>NO</td>\n",
              "      <td>Married</td>\n",
              "      <td>good</td>\n",
              "      <td>28</td>\n",
              "      <td>NO</td>\n",
              "      <td>0</td>\n",
              "      <td>0</td>\n",
              "      <td>1</td>\n",
              "    </tr>\n",
              "    <tr>\n",
              "      <th>...</th>\n",
              "      <td>...</td>\n",
              "      <td>...</td>\n",
              "      <td>...</td>\n",
              "      <td>...</td>\n",
              "      <td>...</td>\n",
              "      <td>...</td>\n",
              "      <td>...</td>\n",
              "      <td>...</td>\n",
              "    </tr>\n",
              "    <tr>\n",
              "      <th>595</th>\n",
              "      <td>YES</td>\n",
              "      <td>Divorced</td>\n",
              "      <td>good</td>\n",
              "      <td>7</td>\n",
              "      <td>YES</td>\n",
              "      <td>1</td>\n",
              "      <td>1</td>\n",
              "      <td>0</td>\n",
              "    </tr>\n",
              "    <tr>\n",
              "      <th>596</th>\n",
              "      <td>YES</td>\n",
              "      <td>Divorced</td>\n",
              "      <td>good</td>\n",
              "      <td>2</td>\n",
              "      <td>YES</td>\n",
              "      <td>1</td>\n",
              "      <td>1</td>\n",
              "      <td>0</td>\n",
              "    </tr>\n",
              "    <tr>\n",
              "      <th>597</th>\n",
              "      <td>NO</td>\n",
              "      <td>Divorced</td>\n",
              "      <td>good</td>\n",
              "      <td>0</td>\n",
              "      <td>YES</td>\n",
              "      <td>1</td>\n",
              "      <td>0</td>\n",
              "      <td>0</td>\n",
              "    </tr>\n",
              "    <tr>\n",
              "      <th>598</th>\n",
              "      <td>YES</td>\n",
              "      <td>Married</td>\n",
              "      <td>good</td>\n",
              "      <td>17</td>\n",
              "      <td>NO</td>\n",
              "      <td>0</td>\n",
              "      <td>1</td>\n",
              "      <td>1</td>\n",
              "    </tr>\n",
              "    <tr>\n",
              "      <th>599</th>\n",
              "      <td>NO</td>\n",
              "      <td>Divorced</td>\n",
              "      <td>good</td>\n",
              "      <td>16</td>\n",
              "      <td>NO</td>\n",
              "      <td>0</td>\n",
              "      <td>0</td>\n",
              "      <td>0</td>\n",
              "    </tr>\n",
              "  </tbody>\n",
              "</table>\n",
              "<p>600 rows × 8 columns</p>\n",
              "</div>\n",
              "      <button class=\"colab-df-convert\" onclick=\"convertToInteractive('df-3eabb639-b7c2-4528-b45a-21b591a91913')\"\n",
              "              title=\"Convert this dataframe to an interactive table.\"\n",
              "              style=\"display:none;\">\n",
              "        \n",
              "  <svg xmlns=\"http://www.w3.org/2000/svg\" height=\"24px\"viewBox=\"0 0 24 24\"\n",
              "       width=\"24px\">\n",
              "    <path d=\"M0 0h24v24H0V0z\" fill=\"none\"/>\n",
              "    <path d=\"M18.56 5.44l.94 2.06.94-2.06 2.06-.94-2.06-.94-.94-2.06-.94 2.06-2.06.94zm-11 1L8.5 8.5l.94-2.06 2.06-.94-2.06-.94L8.5 2.5l-.94 2.06-2.06.94zm10 10l.94 2.06.94-2.06 2.06-.94-2.06-.94-.94-2.06-.94 2.06-2.06.94z\"/><path d=\"M17.41 7.96l-1.37-1.37c-.4-.4-.92-.59-1.43-.59-.52 0-1.04.2-1.43.59L10.3 9.45l-7.72 7.72c-.78.78-.78 2.05 0 2.83L4 21.41c.39.39.9.59 1.41.59.51 0 1.02-.2 1.41-.59l7.78-7.78 2.81-2.81c.8-.78.8-2.07 0-2.86zM5.41 20L4 18.59l7.72-7.72 1.47 1.35L5.41 20z\"/>\n",
              "  </svg>\n",
              "      </button>\n",
              "      \n",
              "  <style>\n",
              "    .colab-df-container {\n",
              "      display:flex;\n",
              "      flex-wrap:wrap;\n",
              "      gap: 12px;\n",
              "    }\n",
              "\n",
              "    .colab-df-convert {\n",
              "      background-color: #E8F0FE;\n",
              "      border: none;\n",
              "      border-radius: 50%;\n",
              "      cursor: pointer;\n",
              "      display: none;\n",
              "      fill: #1967D2;\n",
              "      height: 32px;\n",
              "      padding: 0 0 0 0;\n",
              "      width: 32px;\n",
              "    }\n",
              "\n",
              "    .colab-df-convert:hover {\n",
              "      background-color: #E2EBFA;\n",
              "      box-shadow: 0px 1px 2px rgba(60, 64, 67, 0.3), 0px 1px 3px 1px rgba(60, 64, 67, 0.15);\n",
              "      fill: #174EA6;\n",
              "    }\n",
              "\n",
              "    [theme=dark] .colab-df-convert {\n",
              "      background-color: #3B4455;\n",
              "      fill: #D2E3FC;\n",
              "    }\n",
              "\n",
              "    [theme=dark] .colab-df-convert:hover {\n",
              "      background-color: #434B5C;\n",
              "      box-shadow: 0px 1px 3px 1px rgba(0, 0, 0, 0.15);\n",
              "      filter: drop-shadow(0px 1px 2px rgba(0, 0, 0, 0.3));\n",
              "      fill: #FFFFFF;\n",
              "    }\n",
              "  </style>\n",
              "\n",
              "      <script>\n",
              "        const buttonEl =\n",
              "          document.querySelector('#df-3eabb639-b7c2-4528-b45a-21b591a91913 button.colab-df-convert');\n",
              "        buttonEl.style.display =\n",
              "          google.colab.kernel.accessAllowed ? 'block' : 'none';\n",
              "\n",
              "        async function convertToInteractive(key) {\n",
              "          const element = document.querySelector('#df-3eabb639-b7c2-4528-b45a-21b591a91913');\n",
              "          const dataTable =\n",
              "            await google.colab.kernel.invokeFunction('convertToInteractive',\n",
              "                                                     [key], {});\n",
              "          if (!dataTable) return;\n",
              "\n",
              "          const docLinkHtml = 'Like what you see? Visit the ' +\n",
              "            '<a target=\"_blank\" href=https://colab.research.google.com/notebooks/data_table.ipynb>data table notebook</a>'\n",
              "            + ' to learn more about interactive tables.';\n",
              "          element.innerHTML = '';\n",
              "          dataTable['output_type'] = 'display_data';\n",
              "          await google.colab.output.renderOutput(dataTable, element);\n",
              "          const docLink = document.createElement('div');\n",
              "          docLink.innerHTML = docLinkHtml;\n",
              "          element.appendChild(docLink);\n",
              "        }\n",
              "      </script>\n",
              "    </div>\n",
              "  </div>\n",
              "  "
            ]
          },
          "metadata": {},
          "execution_count": 24
        }
      ]
    },
    {
      "cell_type": "code",
      "source": [
        "from sklearn.preprocessing import LabelEncoder\n",
        "labelencoder = LabelEncoder()\n",
        "FC['TI'] = labelencoder.fit_transform(FC['Taxable.Income'])"
      ],
      "metadata": {
        "id": "KlV06l6jRNlk"
      },
      "execution_count": null,
      "outputs": []
    },
    {
      "cell_type": "code",
      "source": [
        "FC"
      ],
      "metadata": {
        "colab": {
          "base_uri": "https://localhost:8080/",
          "height": 423
        },
        "id": "dMMkx1TCNKxb",
        "outputId": "9a93efec-4d97-4727-d3db-19e8cbe00575"
      },
      "execution_count": null,
      "outputs": [
        {
          "output_type": "execute_result",
          "data": {
            "text/plain": [
              "    Undergrad Marital.Status Taxable.Income  Work.Experience Urban  Urban1  \\\n",
              "0          NO         Single           good               10   YES       1   \n",
              "1         YES       Divorced           good               18   YES       1   \n",
              "2          NO        Married           good               30   YES       1   \n",
              "3         YES         Single           good               15   YES       1   \n",
              "4          NO        Married           good               28    NO       0   \n",
              "..        ...            ...            ...              ...   ...     ...   \n",
              "595       YES       Divorced           good                7   YES       1   \n",
              "596       YES       Divorced           good                2   YES       1   \n",
              "597        NO       Divorced           good                0   YES       1   \n",
              "598       YES        Married           good               17    NO       0   \n",
              "599        NO       Divorced           good               16    NO       0   \n",
              "\n",
              "     Undergrad1  Maritalstatus  TI  \n",
              "0             0              2   0  \n",
              "1             1              0   0  \n",
              "2             0              1   0  \n",
              "3             1              2   0  \n",
              "4             0              1   0  \n",
              "..          ...            ...  ..  \n",
              "595           1              0   0  \n",
              "596           1              0   0  \n",
              "597           0              0   0  \n",
              "598           1              1   0  \n",
              "599           0              0   0  \n",
              "\n",
              "[600 rows x 9 columns]"
            ],
            "text/html": [
              "\n",
              "  <div id=\"df-069bde77-7500-47a2-a045-f23b16bfab57\">\n",
              "    <div class=\"colab-df-container\">\n",
              "      <div>\n",
              "<style scoped>\n",
              "    .dataframe tbody tr th:only-of-type {\n",
              "        vertical-align: middle;\n",
              "    }\n",
              "\n",
              "    .dataframe tbody tr th {\n",
              "        vertical-align: top;\n",
              "    }\n",
              "\n",
              "    .dataframe thead th {\n",
              "        text-align: right;\n",
              "    }\n",
              "</style>\n",
              "<table border=\"1\" class=\"dataframe\">\n",
              "  <thead>\n",
              "    <tr style=\"text-align: right;\">\n",
              "      <th></th>\n",
              "      <th>Undergrad</th>\n",
              "      <th>Marital.Status</th>\n",
              "      <th>Taxable.Income</th>\n",
              "      <th>Work.Experience</th>\n",
              "      <th>Urban</th>\n",
              "      <th>Urban1</th>\n",
              "      <th>Undergrad1</th>\n",
              "      <th>Maritalstatus</th>\n",
              "      <th>TI</th>\n",
              "    </tr>\n",
              "  </thead>\n",
              "  <tbody>\n",
              "    <tr>\n",
              "      <th>0</th>\n",
              "      <td>NO</td>\n",
              "      <td>Single</td>\n",
              "      <td>good</td>\n",
              "      <td>10</td>\n",
              "      <td>YES</td>\n",
              "      <td>1</td>\n",
              "      <td>0</td>\n",
              "      <td>2</td>\n",
              "      <td>0</td>\n",
              "    </tr>\n",
              "    <tr>\n",
              "      <th>1</th>\n",
              "      <td>YES</td>\n",
              "      <td>Divorced</td>\n",
              "      <td>good</td>\n",
              "      <td>18</td>\n",
              "      <td>YES</td>\n",
              "      <td>1</td>\n",
              "      <td>1</td>\n",
              "      <td>0</td>\n",
              "      <td>0</td>\n",
              "    </tr>\n",
              "    <tr>\n",
              "      <th>2</th>\n",
              "      <td>NO</td>\n",
              "      <td>Married</td>\n",
              "      <td>good</td>\n",
              "      <td>30</td>\n",
              "      <td>YES</td>\n",
              "      <td>1</td>\n",
              "      <td>0</td>\n",
              "      <td>1</td>\n",
              "      <td>0</td>\n",
              "    </tr>\n",
              "    <tr>\n",
              "      <th>3</th>\n",
              "      <td>YES</td>\n",
              "      <td>Single</td>\n",
              "      <td>good</td>\n",
              "      <td>15</td>\n",
              "      <td>YES</td>\n",
              "      <td>1</td>\n",
              "      <td>1</td>\n",
              "      <td>2</td>\n",
              "      <td>0</td>\n",
              "    </tr>\n",
              "    <tr>\n",
              "      <th>4</th>\n",
              "      <td>NO</td>\n",
              "      <td>Married</td>\n",
              "      <td>good</td>\n",
              "      <td>28</td>\n",
              "      <td>NO</td>\n",
              "      <td>0</td>\n",
              "      <td>0</td>\n",
              "      <td>1</td>\n",
              "      <td>0</td>\n",
              "    </tr>\n",
              "    <tr>\n",
              "      <th>...</th>\n",
              "      <td>...</td>\n",
              "      <td>...</td>\n",
              "      <td>...</td>\n",
              "      <td>...</td>\n",
              "      <td>...</td>\n",
              "      <td>...</td>\n",
              "      <td>...</td>\n",
              "      <td>...</td>\n",
              "      <td>...</td>\n",
              "    </tr>\n",
              "    <tr>\n",
              "      <th>595</th>\n",
              "      <td>YES</td>\n",
              "      <td>Divorced</td>\n",
              "      <td>good</td>\n",
              "      <td>7</td>\n",
              "      <td>YES</td>\n",
              "      <td>1</td>\n",
              "      <td>1</td>\n",
              "      <td>0</td>\n",
              "      <td>0</td>\n",
              "    </tr>\n",
              "    <tr>\n",
              "      <th>596</th>\n",
              "      <td>YES</td>\n",
              "      <td>Divorced</td>\n",
              "      <td>good</td>\n",
              "      <td>2</td>\n",
              "      <td>YES</td>\n",
              "      <td>1</td>\n",
              "      <td>1</td>\n",
              "      <td>0</td>\n",
              "      <td>0</td>\n",
              "    </tr>\n",
              "    <tr>\n",
              "      <th>597</th>\n",
              "      <td>NO</td>\n",
              "      <td>Divorced</td>\n",
              "      <td>good</td>\n",
              "      <td>0</td>\n",
              "      <td>YES</td>\n",
              "      <td>1</td>\n",
              "      <td>0</td>\n",
              "      <td>0</td>\n",
              "      <td>0</td>\n",
              "    </tr>\n",
              "    <tr>\n",
              "      <th>598</th>\n",
              "      <td>YES</td>\n",
              "      <td>Married</td>\n",
              "      <td>good</td>\n",
              "      <td>17</td>\n",
              "      <td>NO</td>\n",
              "      <td>0</td>\n",
              "      <td>1</td>\n",
              "      <td>1</td>\n",
              "      <td>0</td>\n",
              "    </tr>\n",
              "    <tr>\n",
              "      <th>599</th>\n",
              "      <td>NO</td>\n",
              "      <td>Divorced</td>\n",
              "      <td>good</td>\n",
              "      <td>16</td>\n",
              "      <td>NO</td>\n",
              "      <td>0</td>\n",
              "      <td>0</td>\n",
              "      <td>0</td>\n",
              "      <td>0</td>\n",
              "    </tr>\n",
              "  </tbody>\n",
              "</table>\n",
              "<p>600 rows × 9 columns</p>\n",
              "</div>\n",
              "      <button class=\"colab-df-convert\" onclick=\"convertToInteractive('df-069bde77-7500-47a2-a045-f23b16bfab57')\"\n",
              "              title=\"Convert this dataframe to an interactive table.\"\n",
              "              style=\"display:none;\">\n",
              "        \n",
              "  <svg xmlns=\"http://www.w3.org/2000/svg\" height=\"24px\"viewBox=\"0 0 24 24\"\n",
              "       width=\"24px\">\n",
              "    <path d=\"M0 0h24v24H0V0z\" fill=\"none\"/>\n",
              "    <path d=\"M18.56 5.44l.94 2.06.94-2.06 2.06-.94-2.06-.94-.94-2.06-.94 2.06-2.06.94zm-11 1L8.5 8.5l.94-2.06 2.06-.94-2.06-.94L8.5 2.5l-.94 2.06-2.06.94zm10 10l.94 2.06.94-2.06 2.06-.94-2.06-.94-.94-2.06-.94 2.06-2.06.94z\"/><path d=\"M17.41 7.96l-1.37-1.37c-.4-.4-.92-.59-1.43-.59-.52 0-1.04.2-1.43.59L10.3 9.45l-7.72 7.72c-.78.78-.78 2.05 0 2.83L4 21.41c.39.39.9.59 1.41.59.51 0 1.02-.2 1.41-.59l7.78-7.78 2.81-2.81c.8-.78.8-2.07 0-2.86zM5.41 20L4 18.59l7.72-7.72 1.47 1.35L5.41 20z\"/>\n",
              "  </svg>\n",
              "      </button>\n",
              "      \n",
              "  <style>\n",
              "    .colab-df-container {\n",
              "      display:flex;\n",
              "      flex-wrap:wrap;\n",
              "      gap: 12px;\n",
              "    }\n",
              "\n",
              "    .colab-df-convert {\n",
              "      background-color: #E8F0FE;\n",
              "      border: none;\n",
              "      border-radius: 50%;\n",
              "      cursor: pointer;\n",
              "      display: none;\n",
              "      fill: #1967D2;\n",
              "      height: 32px;\n",
              "      padding: 0 0 0 0;\n",
              "      width: 32px;\n",
              "    }\n",
              "\n",
              "    .colab-df-convert:hover {\n",
              "      background-color: #E2EBFA;\n",
              "      box-shadow: 0px 1px 2px rgba(60, 64, 67, 0.3), 0px 1px 3px 1px rgba(60, 64, 67, 0.15);\n",
              "      fill: #174EA6;\n",
              "    }\n",
              "\n",
              "    [theme=dark] .colab-df-convert {\n",
              "      background-color: #3B4455;\n",
              "      fill: #D2E3FC;\n",
              "    }\n",
              "\n",
              "    [theme=dark] .colab-df-convert:hover {\n",
              "      background-color: #434B5C;\n",
              "      box-shadow: 0px 1px 3px 1px rgba(0, 0, 0, 0.15);\n",
              "      filter: drop-shadow(0px 1px 2px rgba(0, 0, 0, 0.3));\n",
              "      fill: #FFFFFF;\n",
              "    }\n",
              "  </style>\n",
              "\n",
              "      <script>\n",
              "        const buttonEl =\n",
              "          document.querySelector('#df-069bde77-7500-47a2-a045-f23b16bfab57 button.colab-df-convert');\n",
              "        buttonEl.style.display =\n",
              "          google.colab.kernel.accessAllowed ? 'block' : 'none';\n",
              "\n",
              "        async function convertToInteractive(key) {\n",
              "          const element = document.querySelector('#df-069bde77-7500-47a2-a045-f23b16bfab57');\n",
              "          const dataTable =\n",
              "            await google.colab.kernel.invokeFunction('convertToInteractive',\n",
              "                                                     [key], {});\n",
              "          if (!dataTable) return;\n",
              "\n",
              "          const docLinkHtml = 'Like what you see? Visit the ' +\n",
              "            '<a target=\"_blank\" href=https://colab.research.google.com/notebooks/data_table.ipynb>data table notebook</a>'\n",
              "            + ' to learn more about interactive tables.';\n",
              "          element.innerHTML = '';\n",
              "          dataTable['output_type'] = 'display_data';\n",
              "          await google.colab.output.renderOutput(dataTable, element);\n",
              "          const docLink = document.createElement('div');\n",
              "          docLink.innerHTML = docLinkHtml;\n",
              "          element.appendChild(docLink);\n",
              "        }\n",
              "      </script>\n",
              "    </div>\n",
              "  </div>\n",
              "  "
            ]
          },
          "metadata": {},
          "execution_count": 26
        }
      ]
    },
    {
      "cell_type": "code",
      "source": [],
      "metadata": {
        "id": "mNndNNLqGH4R"
      },
      "execution_count": null,
      "outputs": []
    },
    {
      "cell_type": "code",
      "source": [
        "# Visualization"
      ],
      "metadata": {
        "id": "DvdJCDkXF3_9"
      },
      "execution_count": null,
      "outputs": []
    },
    {
      "cell_type": "code",
      "source": [
        "sns.pairplot(FC)"
      ],
      "metadata": {
        "colab": {
          "base_uri": "https://localhost:8080/",
          "height": 920
        },
        "id": "Lw3k0cl4F4LE",
        "outputId": "9a4c5127-565a-4efa-b700-9b85623660c9"
      },
      "execution_count": null,
      "outputs": [
        {
          "output_type": "execute_result",
          "data": {
            "text/plain": [
              "<seaborn.axisgrid.PairGrid at 0x7f72d4318640>"
            ]
          },
          "metadata": {},
          "execution_count": 29
        },
        {
          "output_type": "display_data",
          "data": {
            "text/plain": [
              "<Figure size 900x900 with 30 Axes>"
            ],
            "image/png": "[encoded data removed]"
          },
          "metadata": {
            "needs_background": "light"
          }
        }
      ]
    },
    {
      "cell_type": "code",
      "source": [],
      "metadata": {
        "id": "4G9GNqEDGSA1"
      },
      "execution_count": null,
      "outputs": []
    },
    {
      "cell_type": "code",
      "source": [
        "# Correlation matrix"
      ],
      "metadata": {
        "id": "MqKIK5zuGSNN"
      },
      "execution_count": null,
      "outputs": []
    },
    {
      "cell_type": "code",
      "source": [
        "FC.corr()"
      ],
      "metadata": {
        "colab": {
          "base_uri": "https://localhost:8080/",
          "height": 206
        },
        "id": "8VIwsfehGU9I",
        "outputId": "0bbd34ba-3d9b-4bba-8c36-c55988134416"
      },
      "execution_count": null,
      "outputs": [
        {
          "output_type": "execute_result",
          "data": {
            "text/plain": [
              "                 Work.Experience    Urban1  Undergrad1  Maritalstatus  \\\n",
              "Work.Experience         1.000000 -0.094559   -0.005362      -0.002213   \n",
              "Urban1                 -0.094559  1.000000   -0.000267       0.064562   \n",
              "Undergrad1             -0.005362 -0.000267    1.000000       0.042407   \n",
              "Maritalstatus          -0.002213  0.064562    0.042407       1.000000   \n",
              "TI                     -0.001972  0.004830    0.012523       0.006081   \n",
              "\n",
              "                       TI  \n",
              "Work.Experience -0.001972  \n",
              "Urban1           0.004830  \n",
              "Undergrad1       0.012523  \n",
              "Maritalstatus    0.006081  \n",
              "TI               1.000000  "
            ],
            "text/html": [
              "\n",
              "  <div id=\"df-2e62bc4a-1523-4078-b849-4fc3edf6dff0\">\n",
              "    <div class=\"colab-df-container\">\n",
              "      <div>\n",
              "<style scoped>\n",
              "    .dataframe tbody tr th:only-of-type {\n",
              "        vertical-align: middle;\n",
              "    }\n",
              "\n",
              "    .dataframe tbody tr th {\n",
              "        vertical-align: top;\n",
              "    }\n",
              "\n",
              "    .dataframe thead th {\n",
              "        text-align: right;\n",
              "    }\n",
              "</style>\n",
              "<table border=\"1\" class=\"dataframe\">\n",
              "  <thead>\n",
              "    <tr style=\"text-align: right;\">\n",
              "      <th></th>\n",
              "      <th>Work.Experience</th>\n",
              "      <th>Urban1</th>\n",
              "      <th>Undergrad1</th>\n",
              "      <th>Maritalstatus</th>\n",
              "      <th>TI</th>\n",
              "    </tr>\n",
              "  </thead>\n",
              "  <tbody>\n",
              "    <tr>\n",
              "      <th>Work.Experience</th>\n",
              "      <td>1.000000</td>\n",
              "      <td>-0.094559</td>\n",
              "      <td>-0.005362</td>\n",
              "      <td>-0.002213</td>\n",
              "      <td>-0.001972</td>\n",
              "    </tr>\n",
              "    <tr>\n",
              "      <th>Urban1</th>\n",
              "      <td>-0.094559</td>\n",
              "      <td>1.000000</td>\n",
              "      <td>-0.000267</td>\n",
              "      <td>0.064562</td>\n",
              "      <td>0.004830</td>\n",
              "    </tr>\n",
              "    <tr>\n",
              "      <th>Undergrad1</th>\n",
              "      <td>-0.005362</td>\n",
              "      <td>-0.000267</td>\n",
              "      <td>1.000000</td>\n",
              "      <td>0.042407</td>\n",
              "      <td>0.012523</td>\n",
              "    </tr>\n",
              "    <tr>\n",
              "      <th>Maritalstatus</th>\n",
              "      <td>-0.002213</td>\n",
              "      <td>0.064562</td>\n",
              "      <td>0.042407</td>\n",
              "      <td>1.000000</td>\n",
              "      <td>0.006081</td>\n",
              "    </tr>\n",
              "    <tr>\n",
              "      <th>TI</th>\n",
              "      <td>-0.001972</td>\n",
              "      <td>0.004830</td>\n",
              "      <td>0.012523</td>\n",
              "      <td>0.006081</td>\n",
              "      <td>1.000000</td>\n",
              "    </tr>\n",
              "  </tbody>\n",
              "</table>\n",
              "</div>\n",
              "      <button class=\"colab-df-convert\" onclick=\"convertToInteractive('df-2e62bc4a-1523-4078-b849-4fc3edf6dff0')\"\n",
              "              title=\"Convert this dataframe to an interactive table.\"\n",
              "              style=\"display:none;\">\n",
              "        \n",
              "  <svg xmlns=\"http://www.w3.org/2000/svg\" height=\"24px\"viewBox=\"0 0 24 24\"\n",
              "       width=\"24px\">\n",
              "    <path d=\"M0 0h24v24H0V0z\" fill=\"none\"/>\n",
              "    <path d=\"M18.56 5.44l.94 2.06.94-2.06 2.06-.94-2.06-.94-.94-2.06-.94 2.06-2.06.94zm-11 1L8.5 8.5l.94-2.06 2.06-.94-2.06-.94L8.5 2.5l-.94 2.06-2.06.94zm10 10l.94 2.06.94-2.06 2.06-.94-2.06-.94-.94-2.06-.94 2.06-2.06.94z\"/><path d=\"M17.41 7.96l-1.37-1.37c-.4-.4-.92-.59-1.43-.59-.52 0-1.04.2-1.43.59L10.3 9.45l-7.72 7.72c-.78.78-.78 2.05 0 2.83L4 21.41c.39.39.9.59 1.41.59.51 0 1.02-.2 1.41-.59l7.78-7.78 2.81-2.81c.8-.78.8-2.07 0-2.86zM5.41 20L4 18.59l7.72-7.72 1.47 1.35L5.41 20z\"/>\n",
              "  </svg>\n",
              "      </button>\n",
              "      \n",
              "  <style>\n",
              "    .colab-df-container {\n",
              "      display:flex;\n",
              "      flex-wrap:wrap;\n",
              "      gap: 12px;\n",
              "    }\n",
              "\n",
              "    .colab-df-convert {\n",
              "      background-color: #E8F0FE;\n",
              "      border: none;\n",
              "      border-radius: 50%;\n",
              "      cursor: pointer;\n",
              "      display: none;\n",
              "      fill: #1967D2;\n",
              "      height: 32px;\n",
              "      padding: 0 0 0 0;\n",
              "      width: 32px;\n",
              "    }\n",
              "\n",
              "    .colab-df-convert:hover {\n",
              "      background-color: #E2EBFA;\n",
              "      box-shadow: 0px 1px 2px rgba(60, 64, 67, 0.3), 0px 1px 3px 1px rgba(60, 64, 67, 0.15);\n",
              "      fill: #174EA6;\n",
              "    }\n",
              "\n",
              "    [theme=dark] .colab-df-convert {\n",
              "      background-color: #3B4455;\n",
              "      fill: #D2E3FC;\n",
              "    }\n",
              "\n",
              "    [theme=dark] .colab-df-convert:hover {\n",
              "      background-color: #434B5C;\n",
              "      box-shadow: 0px 1px 3px 1px rgba(0, 0, 0, 0.15);\n",
              "      filter: drop-shadow(0px 1px 2px rgba(0, 0, 0, 0.3));\n",
              "      fill: #FFFFFF;\n",
              "    }\n",
              "  </style>\n",
              "\n",
              "      <script>\n",
              "        const buttonEl =\n",
              "          document.querySelector('#df-2e62bc4a-1523-4078-b849-4fc3edf6dff0 button.colab-df-convert');\n",
              "        buttonEl.style.display =\n",
              "          google.colab.kernel.accessAllowed ? 'block' : 'none';\n",
              "\n",
              "        async function convertToInteractive(key) {\n",
              "          const element = document.querySelector('#df-2e62bc4a-1523-4078-b849-4fc3edf6dff0');\n",
              "          const dataTable =\n",
              "            await google.colab.kernel.invokeFunction('convertToInteractive',\n",
              "                                                     [key], {});\n",
              "          if (!dataTable) return;\n",
              "\n",
              "          const docLinkHtml = 'Like what you see? Visit the ' +\n",
              "            '<a target=\"_blank\" href=https://colab.research.google.com/notebooks/data_table.ipynb>data table notebook</a>'\n",
              "            + ' to learn more about interactive tables.';\n",
              "          element.innerHTML = '';\n",
              "          dataTable['output_type'] = 'display_data';\n",
              "          await google.colab.output.renderOutput(dataTable, element);\n",
              "          const docLink = document.createElement('div');\n",
              "          docLink.innerHTML = docLinkHtml;\n",
              "          element.appendChild(docLink);\n",
              "        }\n",
              "      </script>\n",
              "    </div>\n",
              "  </div>\n",
              "  "
            ]
          },
          "metadata": {},
          "execution_count": 31
        }
      ]
    },
    {
      "cell_type": "code",
      "source": [],
      "metadata": {
        "id": "ugj9jF9_GZMF"
      },
      "execution_count": null,
      "outputs": []
    },
    {
      "cell_type": "markdown",
      "source": [
        "From the correlation matrix , we see that Work.Experience and Urban population has the highest correlation between themselves."
      ],
      "metadata": {
        "id": "qSREucEuHE0r"
      }
    },
    {
      "cell_type": "code",
      "source": [],
      "metadata": {
        "id": "B7Uynb3oGZY1"
      },
      "execution_count": null,
      "outputs": []
    },
    {
      "cell_type": "code",
      "source": [],
      "metadata": {
        "id": "vOgurJzeOsDO"
      },
      "execution_count": null,
      "outputs": []
    },
    {
      "cell_type": "code",
      "source": [
        "# Seperating independent and dependent variable\n",
        "\n",
        "#  x  - independent variable\n",
        "#  y  - dependent variable"
      ],
      "metadata": {
        "id": "HW9qGbcuIUsp"
      },
      "execution_count": null,
      "outputs": []
    },
    {
      "cell_type": "code",
      "source": [
        "x = FC.iloc[:,[3,5,6,7]]\n",
        "y = FC.iloc[:,-1]"
      ],
      "metadata": {
        "id": "g6kBfzejLVdI"
      },
      "execution_count": null,
      "outputs": []
    },
    {
      "cell_type": "code",
      "source": [
        "x"
      ],
      "metadata": {
        "id": "Z-eimhOaM7wN",
        "colab": {
          "base_uri": "https://localhost:8080/",
          "height": 423
        },
        "outputId": "bb3305ff-6746-4da5-9f32-ce0dac77c8a6"
      },
      "execution_count": null,
      "outputs": [
        {
          "output_type": "execute_result",
          "data": {
            "text/plain": [
              "     Work.Experience  Urban1  Undergrad1  Maritalstatus\n",
              "0                 10       1           0              2\n",
              "1                 18       1           1              0\n",
              "2                 30       1           0              1\n",
              "3                 15       1           1              2\n",
              "4                 28       0           0              1\n",
              "..               ...     ...         ...            ...\n",
              "595                7       1           1              0\n",
              "596                2       1           1              0\n",
              "597                0       1           0              0\n",
              "598               17       0           1              1\n",
              "599               16       0           0              0\n",
              "\n",
              "[600 rows x 4 columns]"
            ],
            "text/html": [
              "\n",
              "  <div id=\"df-8d241026-7965-492c-bcea-0e62a1228132\">\n",
              "    <div class=\"colab-df-container\">\n",
              "      <div>\n",
              "<style scoped>\n",
              "    .dataframe tbody tr th:only-of-type {\n",
              "        vertical-align: middle;\n",
              "    }\n",
              "\n",
              "    .dataframe tbody tr th {\n",
              "        vertical-align: top;\n",
              "    }\n",
              "\n",
              "    .dataframe thead th {\n",
              "        text-align: right;\n",
              "    }\n",
              "</style>\n",
              "<table border=\"1\" class=\"dataframe\">\n",
              "  <thead>\n",
              "    <tr style=\"text-align: right;\">\n",
              "      <th></th>\n",
              "      <th>Work.Experience</th>\n",
              "      <th>Urban1</th>\n",
              "      <th>Undergrad1</th>\n",
              "      <th>Maritalstatus</th>\n",
              "    </tr>\n",
              "  </thead>\n",
              "  <tbody>\n",
              "    <tr>\n",
              "      <th>0</th>\n",
              "      <td>10</td>\n",
              "      <td>1</td>\n",
              "      <td>0</td>\n",
              "      <td>2</td>\n",
              "    </tr>\n",
              "    <tr>\n",
              "      <th>1</th>\n",
              "      <td>18</td>\n",
              "      <td>1</td>\n",
              "      <td>1</td>\n",
              "      <td>0</td>\n",
              "    </tr>\n",
              "    <tr>\n",
              "      <th>2</th>\n",
              "      <td>30</td>\n",
              "      <td>1</td>\n",
              "      <td>0</td>\n",
              "      <td>1</td>\n",
              "    </tr>\n",
              "    <tr>\n",
              "      <th>3</th>\n",
              "      <td>15</td>\n",
              "      <td>1</td>\n",
              "      <td>1</td>\n",
              "      <td>2</td>\n",
              "    </tr>\n",
              "    <tr>\n",
              "      <th>4</th>\n",
              "      <td>28</td>\n",
              "      <td>0</td>\n",
              "      <td>0</td>\n",
              "      <td>1</td>\n",
              "    </tr>\n",
              "    <tr>\n",
              "      <th>...</th>\n",
              "      <td>...</td>\n",
              "      <td>...</td>\n",
              "      <td>...</td>\n",
              "      <td>...</td>\n",
              "    </tr>\n",
              "    <tr>\n",
              "      <th>595</th>\n",
              "      <td>7</td>\n",
              "      <td>1</td>\n",
              "      <td>1</td>\n",
              "      <td>0</td>\n",
              "    </tr>\n",
              "    <tr>\n",
              "      <th>596</th>\n",
              "      <td>2</td>\n",
              "      <td>1</td>\n",
              "      <td>1</td>\n",
              "      <td>0</td>\n",
              "    </tr>\n",
              "    <tr>\n",
              "      <th>597</th>\n",
              "      <td>0</td>\n",
              "      <td>1</td>\n",
              "      <td>0</td>\n",
              "      <td>0</td>\n",
              "    </tr>\n",
              "    <tr>\n",
              "      <th>598</th>\n",
              "      <td>17</td>\n",
              "      <td>0</td>\n",
              "      <td>1</td>\n",
              "      <td>1</td>\n",
              "    </tr>\n",
              "    <tr>\n",
              "      <th>599</th>\n",
              "      <td>16</td>\n",
              "      <td>0</td>\n",
              "      <td>0</td>\n",
              "      <td>0</td>\n",
              "    </tr>\n",
              "  </tbody>\n",
              "</table>\n",
              "<p>600 rows × 4 columns</p>\n",
              "</div>\n",
              "      <button class=\"colab-df-convert\" onclick=\"convertToInteractive('df-8d241026-7965-492c-bcea-0e62a1228132')\"\n",
              "              title=\"Convert this dataframe to an interactive table.\"\n",
              "              style=\"display:none;\">\n",
              "        \n",
              "  <svg xmlns=\"http://www.w3.org/2000/svg\" height=\"24px\"viewBox=\"0 0 24 24\"\n",
              "       width=\"24px\">\n",
              "    <path d=\"M0 0h24v24H0V0z\" fill=\"none\"/>\n",
              "    <path d=\"M18.56 5.44l.94 2.06.94-2.06 2.06-.94-2.06-.94-.94-2.06-.94 2.06-2.06.94zm-11 1L8.5 8.5l.94-2.06 2.06-.94-2.06-.94L8.5 2.5l-.94 2.06-2.06.94zm10 10l.94 2.06.94-2.06 2.06-.94-2.06-.94-.94-2.06-.94 2.06-2.06.94z\"/><path d=\"M17.41 7.96l-1.37-1.37c-.4-.4-.92-.59-1.43-.59-.52 0-1.04.2-1.43.59L10.3 9.45l-7.72 7.72c-.78.78-.78 2.05 0 2.83L4 21.41c.39.39.9.59 1.41.59.51 0 1.02-.2 1.41-.59l7.78-7.78 2.81-2.81c.8-.78.8-2.07 0-2.86zM5.41 20L4 18.59l7.72-7.72 1.47 1.35L5.41 20z\"/>\n",
              "  </svg>\n",
              "      </button>\n",
              "      \n",
              "  <style>\n",
              "    .colab-df-container {\n",
              "      display:flex;\n",
              "      flex-wrap:wrap;\n",
              "      gap: 12px;\n",
              "    }\n",
              "\n",
              "    .colab-df-convert {\n",
              "      background-color: #E8F0FE;\n",
              "      border: none;\n",
              "      border-radius: 50%;\n",
              "      cursor: pointer;\n",
              "      display: none;\n",
              "      fill: #1967D2;\n",
              "      height: 32px;\n",
              "      padding: 0 0 0 0;\n",
              "      width: 32px;\n",
              "    }\n",
              "\n",
              "    .colab-df-convert:hover {\n",
              "      background-color: #E2EBFA;\n",
              "      box-shadow: 0px 1px 2px rgba(60, 64, 67, 0.3), 0px 1px 3px 1px rgba(60, 64, 67, 0.15);\n",
              "      fill: #174EA6;\n",
              "    }\n",
              "\n",
              "    [theme=dark] .colab-df-convert {\n",
              "      background-color: #3B4455;\n",
              "      fill: #D2E3FC;\n",
              "    }\n",
              "\n",
              "    [theme=dark] .colab-df-convert:hover {\n",
              "      background-color: #434B5C;\n",
              "      box-shadow: 0px 1px 3px 1px rgba(0, 0, 0, 0.15);\n",
              "      filter: drop-shadow(0px 1px 2px rgba(0, 0, 0, 0.3));\n",
              "      fill: #FFFFFF;\n",
              "    }\n",
              "  </style>\n",
              "\n",
              "      <script>\n",
              "        const buttonEl =\n",
              "          document.querySelector('#df-8d241026-7965-492c-bcea-0e62a1228132 button.colab-df-convert');\n",
              "        buttonEl.style.display =\n",
              "          google.colab.kernel.accessAllowed ? 'block' : 'none';\n",
              "\n",
              "        async function convertToInteractive(key) {\n",
              "          const element = document.querySelector('#df-8d241026-7965-492c-bcea-0e62a1228132');\n",
              "          const dataTable =\n",
              "            await google.colab.kernel.invokeFunction('convertToInteractive',\n",
              "                                                     [key], {});\n",
              "          if (!dataTable) return;\n",
              "\n",
              "          const docLinkHtml = 'Like what you see? Visit the ' +\n",
              "            '<a target=\"_blank\" href=https://colab.research.google.com/notebooks/data_table.ipynb>data table notebook</a>'\n",
              "            + ' to learn more about interactive tables.';\n",
              "          element.innerHTML = '';\n",
              "          dataTable['output_type'] = 'display_data';\n",
              "          await google.colab.output.renderOutput(dataTable, element);\n",
              "          const docLink = document.createElement('div');\n",
              "          docLink.innerHTML = docLinkHtml;\n",
              "          element.appendChild(docLink);\n",
              "        }\n",
              "      </script>\n",
              "    </div>\n",
              "  </div>\n",
              "  "
            ]
          },
          "metadata": {},
          "execution_count": 35
        }
      ]
    },
    {
      "cell_type": "code",
      "source": [
        "y"
      ],
      "metadata": {
        "colab": {
          "base_uri": "https://localhost:8080/"
        },
        "id": "rBTu62xVgg6e",
        "outputId": "688e6bb8-69de-4193-d42c-2ea64815dbc6"
      },
      "execution_count": null,
      "outputs": [
        {
          "output_type": "execute_result",
          "data": {
            "text/plain": [
              "0      0\n",
              "1      0\n",
              "2      0\n",
              "3      0\n",
              "4      0\n",
              "      ..\n",
              "595    0\n",
              "596    0\n",
              "597    0\n",
              "598    0\n",
              "599    0\n",
              "Name: TI, Length: 600, dtype: int64"
            ]
          },
          "metadata": {},
          "execution_count": 36
        }
      ]
    },
    {
      "cell_type": "code",
      "source": [
        "# Splitting Data into training and Testing data"
      ],
      "metadata": {
        "id": "qGXlnB2oM8S5"
      },
      "execution_count": null,
      "outputs": []
    },
    {
      "cell_type": "code",
      "source": [
        "x_train,x_test,y_train,y_test = train_test_split(x,y,test_size = 0.2,random_state=40)"
      ],
      "metadata": {
        "id": "Fti_5kWtOAB3"
      },
      "execution_count": null,
      "outputs": []
    },
    {
      "cell_type": "code",
      "source": [
        "print(x_train.shape,x_test.shape,y_train.shape,y_test.shape)"
      ],
      "metadata": {
        "id": "Ss7t2LX8OT_N",
        "colab": {
          "base_uri": "https://localhost:8080/"
        },
        "outputId": "6da90f74-1e00-4040-9315-acf87e4e30f2"
      },
      "execution_count": null,
      "outputs": [
        {
          "output_type": "stream",
          "name": "stdout",
          "text": [
            "(480, 4) (120, 4) (480,) (120,)\n"
          ]
        }
      ]
    },
    {
      "cell_type": "code",
      "source": [],
      "metadata": {
        "id": "lqeG6qk7OavW"
      },
      "execution_count": null,
      "outputs": []
    },
    {
      "cell_type": "code",
      "source": [
        "# Building Decision Tree..."
      ],
      "metadata": {
        "id": "y4EpZvDBOdNP"
      },
      "execution_count": null,
      "outputs": []
    },
    {
      "cell_type": "code",
      "source": [
        "model = DecisionTreeClassifier(criterion='entropy',max_depth=3)\n"
      ],
      "metadata": {
        "id": "puHI2d_0Ohfl"
      },
      "execution_count": null,
      "outputs": []
    },
    {
      "cell_type": "code",
      "source": [
        "model.fit(x_train,y_train)"
      ],
      "metadata": {
        "id": "m7bD_5SbO4F9",
        "colab": {
          "base_uri": "https://localhost:8080/",
          "height": 75
        },
        "outputId": "c3cc96c3-5a2b-41d4-cf64-54f54bac9c3c"
      },
      "execution_count": null,
      "outputs": [
        {
          "output_type": "execute_result",
          "data": {
            "text/plain": [
              "DecisionTreeClassifier(criterion='entropy', max_depth=3)"
            ],
            "text/html": [
              "<style>#sk-container-id-3 {color: black;background-color: white;}#sk-container-id-3 pre{padding: 0;}#sk-container-id-3 div.sk-toggleable {background-color: white;}#sk-container-id-3 label.sk-toggleable__label {cursor: pointer;display: block;width: 100%;margin-bottom: 0;padding: 0.3em;box-sizing: border-box;text-align: center;}#sk-container-id-3 label.sk-toggleable__label-arrow:before {content: \"▸\";float: left;margin-right: 0.25em;color: #696969;}#sk-container-id-3 label.sk-toggleable__label-arrow:hover:before {color: black;}#sk-container-id-3 div.sk-estimator:hover label.sk-toggleable__label-arrow:before {color: black;}#sk-container-id-3 div.sk-toggleable__content {max-height: 0;max-width: 0;overflow: hidden;text-align: left;background-color: #f0f8ff;}#sk-container-id-3 div.sk-toggleable__content pre {margin: 0.2em;color: black;border-radius: 0.25em;background-color: #f0f8ff;}#sk-container-id-3 input.sk-toggleable__control:checked~div.sk-toggleable__content {max-height: 200px;max-width: 100%;overflow: auto;}#sk-container-id-3 input.sk-toggleable__control:checked~label.sk-toggleable__label-arrow:before {content: \"▾\";}#sk-container-id-3 div.sk-estimator input.sk-toggleable__control:checked~label.sk-toggleable__label {background-color: #d4ebff;}#sk-container-id-3 div.sk-label input.sk-toggleable__control:checked~label.sk-toggleable__label {background-color: #d4ebff;}#sk-container-id-3 input.sk-hidden--visually {border: 0;clip: rect(1px 1px 1px 1px);clip: rect(1px, 1px, 1px, 1px);height: 1px;margin: -1px;overflow: hidden;padding: 0;position: absolute;width: 1px;}#sk-container-id-3 div.sk-estimator {font-family: monospace;background-color: #f0f8ff;border: 1px dotted black;border-radius: 0.25em;box-sizing: border-box;margin-bottom: 0.5em;}#sk-container-id-3 div.sk-estimator:hover {background-color: #d4ebff;}#sk-container-id-3 div.sk-parallel-item::after {content: \"\";width: 100%;border-bottom: 1px solid gray;flex-grow: 1;}#sk-container-id-3 div.sk-label:hover label.sk-toggleable__label {background-color: #d4ebff;}#sk-container-id-3 div.sk-serial::before {content: \"\";position: absolute;border-left: 1px solid gray;box-sizing: border-box;top: 0;bottom: 0;left: 50%;z-index: 0;}#sk-container-id-3 div.sk-serial {display: flex;flex-direction: column;align-items: center;background-color: white;padding-right: 0.2em;padding-left: 0.2em;position: relative;}#sk-container-id-3 div.sk-item {position: relative;z-index: 1;}#sk-container-id-3 div.sk-parallel {display: flex;align-items: stretch;justify-content: center;background-color: white;position: relative;}#sk-container-id-3 div.sk-item::before, #sk-container-id-3 div.sk-parallel-item::before {content: \"\";position: absolute;border-left: 1px solid gray;box-sizing: border-box;top: 0;bottom: 0;left: 50%;z-index: -1;}#sk-container-id-3 div.sk-parallel-item {display: flex;flex-direction: column;z-index: 1;position: relative;background-color: white;}#sk-container-id-3 div.sk-parallel-item:first-child::after {align-self: flex-end;width: 50%;}#sk-container-id-3 div.sk-parallel-item:last-child::after {align-self: flex-start;width: 50%;}#sk-container-id-3 div.sk-parallel-item:only-child::after {width: 0;}#sk-container-id-3 div.sk-dashed-wrapped {border: 1px dashed gray;margin: 0 0.4em 0.5em 0.4em;box-sizing: border-box;padding-bottom: 0.4em;background-color: white;}#sk-container-id-3 div.sk-label label {font-family: monospace;font-weight: bold;display: inline-block;line-height: 1.2em;}#sk-container-id-3 div.sk-label-container {text-align: center;}#sk-container-id-3 div.sk-container {/* jupyter's `normalize.less` sets `[hidden] { display: none; }` but bootstrap.min.css set `[hidden] { display: none !important; }` so we also need the `!important` here to be able to override the default hidden behavior on the sphinx rendered scikit-learn.org. See: https://github.com/scikit-learn/scikit-learn/issues/21755 */display: inline-block !important;position: relative;}#sk-container-id-3 div.sk-text-repr-fallback {display: none;}</style><div id=\"sk-container-id-3\" class=\"sk-top-container\"><div class=\"sk-text-repr-fallback\"><pre>DecisionTreeClassifier(criterion=&#x27;entropy&#x27;, max_depth=3)</pre><b>In a Jupyter environment, please rerun this cell to show the HTML representation or trust the notebook. <br />On GitHub, the HTML representation is unable to render, please try loading this page with nbviewer.org.</b></div><div class=\"sk-container\" hidden><div class=\"sk-item\"><div class=\"sk-estimator sk-toggleable\"><input class=\"sk-toggleable__control sk-hidden--visually\" id=\"sk-estimator-id-3\" type=\"checkbox\" checked><label for=\"sk-estimator-id-3\" class=\"sk-toggleable__label sk-toggleable__label-arrow\">DecisionTreeClassifier</label><div class=\"sk-toggleable__content\"><pre>DecisionTreeClassifier(criterion=&#x27;entropy&#x27;, max_depth=3)</pre></div></div></div></div></div>"
            ]
          },
          "metadata": {},
          "execution_count": 66
        }
      ]
    },
    {
      "cell_type": "code",
      "source": [
        "fn = FC.iloc[:,[3,5,6,7]]\n",
        "cn = FC.iloc[:,-1]"
      ],
      "metadata": {
        "id": "i3PGS5KdPAaP"
      },
      "execution_count": null,
      "outputs": []
    },
    {
      "cell_type": "code",
      "source": [
        "fig,axes = plt.subplots(nrows=1,ncols=1,figsize=(4,4),dpi=300)"
      ],
      "metadata": {
        "colab": {
          "base_uri": "https://localhost:8080/",
          "height": 1000
        },
        "id": "rsavCa86OTbj",
        "outputId": "e69ff654-1a3a-4086-887a-155ac3cdb63c"
      },
      "execution_count": null,
      "outputs": [
        {
          "output_type": "display_data",
          "data": {
            "text/plain": [
              "<Figure size 1200x1200 with 1 Axes>"
            ],
            "image/png": "[encoded data removed]"
          },
          "metadata": {
            "needs_background": "light"
          }
        }
      ]
    },
    {
      "cell_type": "code",
      "source": [
        "tree.plot_tree(model)\n"
      ],
      "metadata": {
        "id": "PlhMdtRVRpgZ",
        "colab": {
          "base_uri": "https://localhost:8080/",
          "height": 474
        },
        "outputId": "e75c171f-4331-40f9-df47-6f915843624f"
      },
      "execution_count": null,
      "outputs": [
        {
          "output_type": "execute_result",
          "data": {
            "text/plain": [
              "[Text(0.5416666666666666, 0.875, 'x[2] <= 0.5\\nentropy = 0.722\\nsamples = 480\\nvalue = [384, 96]'),\n",
              " Text(0.3333333333333333, 0.625, 'x[0] <= 23.5\\nentropy = 0.655\\nsamples = 231\\nvalue = [192, 39]'),\n",
              " Text(0.16666666666666666, 0.375, 'x[0] <= 0.5\\nentropy = 0.691\\nsamples = 173\\nvalue = [141, 32]'),\n",
              " Text(0.08333333333333333, 0.125, 'entropy = 0.918\\nsamples = 3\\nvalue = [2, 1]'),\n",
              " Text(0.25, 0.125, 'entropy = 0.685\\nsamples = 170\\nvalue = [139, 31]'),\n",
              " Text(0.5, 0.375, 'x[0] <= 25.5\\nentropy = 0.531\\nsamples = 58\\nvalue = [51, 7]'),\n",
              " Text(0.4166666666666667, 0.125, 'entropy = 0.0\\nsamples = 12\\nvalue = [12, 0]'),\n",
              " Text(0.5833333333333334, 0.125, 'entropy = 0.615\\nsamples = 46\\nvalue = [39, 7]'),\n",
              " Text(0.75, 0.625, 'x[0] <= 0.5\\nentropy = 0.776\\nsamples = 249\\nvalue = [192, 57]'),\n",
              " Text(0.6666666666666666, 0.375, 'entropy = 0.0\\nsamples = 8\\nvalue = [8, 0]'),\n",
              " Text(0.8333333333333334, 0.375, 'x[3] <= 1.5\\nentropy = 0.789\\nsamples = 241\\nvalue = [184, 57]'),\n",
              " Text(0.75, 0.125, 'entropy = 0.844\\nsamples = 151\\nvalue = [110, 41]'),\n",
              " Text(0.9166666666666666, 0.125, 'entropy = 0.675\\nsamples = 90\\nvalue = [74, 16]')]"
            ]
          },
          "metadata": {},
          "execution_count": 69
        },
        {
          "output_type": "display_data",
          "data": {
            "text/plain": [
              "<Figure size 432x288 with 1 Axes>"
            ],
            "image/png": "[encoded data removed]"
          },
          "metadata": {
            "needs_background": "light"
          }
        }
      ]
    },
    {
      "cell_type": "code",
      "source": [
        "# Model Score"
      ],
      "metadata": {
        "id": "Xyw95_9EXLCX"
      },
      "execution_count": null,
      "outputs": []
    },
    {
      "cell_type": "code",
      "source": [
        "model.score(x_test,y_test)"
      ],
      "metadata": {
        "id": "FbfcyQp5TsBz",
        "colab": {
          "base_uri": "https://localhost:8080/"
        },
        "outputId": "b4c3d88c-874e-487c-ac1c-124271f7a629"
      },
      "execution_count": null,
      "outputs": [
        {
          "output_type": "execute_result",
          "data": {
            "text/plain": [
              "0.7666666666666667"
            ]
          },
          "metadata": {},
          "execution_count": 71
        }
      ]
    },
    {
      "cell_type": "code",
      "source": [
        "model.score(x_train,y_train)"
      ],
      "metadata": {
        "id": "ddj_OhcUR2Ay",
        "colab": {
          "base_uri": "https://localhost:8080/"
        },
        "outputId": "ee4bf971-e1ae-4553-9c3f-ede901e7b1da"
      },
      "execution_count": null,
      "outputs": [
        {
          "output_type": "execute_result",
          "data": {
            "text/plain": [
              "0.8"
            ]
          },
          "metadata": {},
          "execution_count": 72
        }
      ]
    },
    {
      "cell_type": "code",
      "source": [],
      "metadata": {
        "id": "p7b5LkoUNJC8"
      },
      "execution_count": null,
      "outputs": []
    },
    {
      "cell_type": "code",
      "source": [],
      "metadata": {
        "id": "1jKw3miZUzUm"
      },
      "execution_count": null,
      "outputs": []
    },
    {
      "cell_type": "markdown",
      "source": [
        "Gini criterion"
      ],
      "metadata": {
        "id": "UTs51W7CNKCM"
      }
    },
    {
      "cell_type": "code",
      "source": [
        "model1 = DecisionTreeClassifier(criterion='gini',max_depth=3)"
      ],
      "metadata": {
        "id": "ODjAIiSqM0BD"
      },
      "execution_count": null,
      "outputs": []
    },
    {
      "cell_type": "code",
      "source": [
        "model1.fit(x_train,y_train)"
      ],
      "metadata": {
        "colab": {
          "base_uri": "https://localhost:8080/",
          "height": 75
        },
        "id": "gU-4kyBPM0L6",
        "outputId": "67f10d89-5602-4ae2-b4e3-734c17f10c18"
      },
      "execution_count": null,
      "outputs": [
        {
          "output_type": "execute_result",
          "data": {
            "text/plain": [
              "DecisionTreeClassifier(max_depth=3)"
            ],
            "text/html": [
              "<style>#sk-container-id-4 {color: black;background-color: white;}#sk-container-id-4 pre{padding: 0;}#sk-container-id-4 div.sk-toggleable {background-color: white;}#sk-container-id-4 label.sk-toggleable__label {cursor: pointer;display: block;width: 100%;margin-bottom: 0;padding: 0.3em;box-sizing: border-box;text-align: center;}#sk-container-id-4 label.sk-toggleable__label-arrow:before {content: \"▸\";float: left;margin-right: 0.25em;color: #696969;}#sk-container-id-4 label.sk-toggleable__label-arrow:hover:before {color: black;}#sk-container-id-4 div.sk-estimator:hover label.sk-toggleable__label-arrow:before {color: black;}#sk-container-id-4 div.sk-toggleable__content {max-height: 0;max-width: 0;overflow: hidden;text-align: left;background-color: #f0f8ff;}#sk-container-id-4 div.sk-toggleable__content pre {margin: 0.2em;color: black;border-radius: 0.25em;background-color: #f0f8ff;}#sk-container-id-4 input.sk-toggleable__control:checked~div.sk-toggleable__content {max-height: 200px;max-width: 100%;overflow: auto;}#sk-container-id-4 input.sk-toggleable__control:checked~label.sk-toggleable__label-arrow:before {content: \"▾\";}#sk-container-id-4 div.sk-estimator input.sk-toggleable__control:checked~label.sk-toggleable__label {background-color: #d4ebff;}#sk-container-id-4 div.sk-label input.sk-toggleable__control:checked~label.sk-toggleable__label {background-color: #d4ebff;}#sk-container-id-4 input.sk-hidden--visually {border: 0;clip: rect(1px 1px 1px 1px);clip: rect(1px, 1px, 1px, 1px);height: 1px;margin: -1px;overflow: hidden;padding: 0;position: absolute;width: 1px;}#sk-container-id-4 div.sk-estimator {font-family: monospace;background-color: #f0f8ff;border: 1px dotted black;border-radius: 0.25em;box-sizing: border-box;margin-bottom: 0.5em;}#sk-container-id-4 div.sk-estimator:hover {background-color: #d4ebff;}#sk-container-id-4 div.sk-parallel-item::after {content: \"\";width: 100%;border-bottom: 1px solid gray;flex-grow: 1;}#sk-container-id-4 div.sk-label:hover label.sk-toggleable__label {background-color: #d4ebff;}#sk-container-id-4 div.sk-serial::before {content: \"\";position: absolute;border-left: 1px solid gray;box-sizing: border-box;top: 0;bottom: 0;left: 50%;z-index: 0;}#sk-container-id-4 div.sk-serial {display: flex;flex-direction: column;align-items: center;background-color: white;padding-right: 0.2em;padding-left: 0.2em;position: relative;}#sk-container-id-4 div.sk-item {position: relative;z-index: 1;}#sk-container-id-4 div.sk-parallel {display: flex;align-items: stretch;justify-content: center;background-color: white;position: relative;}#sk-container-id-4 div.sk-item::before, #sk-container-id-4 div.sk-parallel-item::before {content: \"\";position: absolute;border-left: 1px solid gray;box-sizing: border-box;top: 0;bottom: 0;left: 50%;z-index: -1;}#sk-container-id-4 div.sk-parallel-item {display: flex;flex-direction: column;z-index: 1;position: relative;background-color: white;}#sk-container-id-4 div.sk-parallel-item:first-child::after {align-self: flex-end;width: 50%;}#sk-container-id-4 div.sk-parallel-item:last-child::after {align-self: flex-start;width: 50%;}#sk-container-id-4 div.sk-parallel-item:only-child::after {width: 0;}#sk-container-id-4 div.sk-dashed-wrapped {border: 1px dashed gray;margin: 0 0.4em 0.5em 0.4em;box-sizing: border-box;padding-bottom: 0.4em;background-color: white;}#sk-container-id-4 div.sk-label label {font-family: monospace;font-weight: bold;display: inline-block;line-height: 1.2em;}#sk-container-id-4 div.sk-label-container {text-align: center;}#sk-container-id-4 div.sk-container {/* jupyter's `normalize.less` sets `[hidden] { display: none; }` but bootstrap.min.css set `[hidden] { display: none !important; }` so we also need the `!important` here to be able to override the default hidden behavior on the sphinx rendered scikit-learn.org. See: https://github.com/scikit-learn/scikit-learn/issues/21755 */display: inline-block !important;position: relative;}#sk-container-id-4 div.sk-text-repr-fallback {display: none;}</style><div id=\"sk-container-id-4\" class=\"sk-top-container\"><div class=\"sk-text-repr-fallback\"><pre>DecisionTreeClassifier(max_depth=3)</pre><b>In a Jupyter environment, please rerun this cell to show the HTML representation or trust the notebook. <br />On GitHub, the HTML representation is unable to render, please try loading this page with nbviewer.org.</b></div><div class=\"sk-container\" hidden><div class=\"sk-item\"><div class=\"sk-estimator sk-toggleable\"><input class=\"sk-toggleable__control sk-hidden--visually\" id=\"sk-estimator-id-4\" type=\"checkbox\" checked><label for=\"sk-estimator-id-4\" class=\"sk-toggleable__label sk-toggleable__label-arrow\">DecisionTreeClassifier</label><div class=\"sk-toggleable__content\"><pre>DecisionTreeClassifier(max_depth=3)</pre></div></div></div></div></div>"
            ]
          },
          "metadata": {},
          "execution_count": 74
        }
      ]
    },
    {
      "cell_type": "code",
      "source": [
        "fn = FC.iloc[:,[3,5,6,7]]\n",
        "cn = FC.iloc[:,-1]"
      ],
      "metadata": {
        "id": "_UCnUIH6NN79"
      },
      "execution_count": null,
      "outputs": []
    },
    {
      "cell_type": "code",
      "source": [
        "fig,axes = plt.subplots(nrows=1,ncols=1,figsize=(4,4),dpi=300)"
      ],
      "metadata": {
        "colab": {
          "base_uri": "https://localhost:8080/",
          "height": 1000
        },
        "id": "Vnz3-HcoNOAB",
        "outputId": "edd70751-1abb-49ea-bc61-02b50a1b296f"
      },
      "execution_count": null,
      "outputs": [
        {
          "output_type": "display_data",
          "data": {
            "text/plain": [
              "<Figure size 1200x1200 with 1 Axes>"
            ],
            "image/png": "[encoded data removed]"
          },
          "metadata": {
            "needs_background": "light"
          }
        }
      ]
    },
    {
      "cell_type": "code",
      "source": [
        "tree.plot_tree(model1)"
      ],
      "metadata": {
        "colab": {
          "base_uri": "https://localhost:8080/",
          "height": 508
        },
        "id": "il0UEuCHNaT3",
        "outputId": "f2b36280-13b8-4d77-a4cb-bdb89d0adb96"
      },
      "execution_count": null,
      "outputs": [
        {
          "output_type": "execute_result",
          "data": {
            "text/plain": [
              "[Text(0.5, 0.875, 'x[2] <= 0.5\\ngini = 0.32\\nsamples = 480\\nvalue = [384, 96]'),\n",
              " Text(0.25, 0.625, 'x[0] <= 23.5\\ngini = 0.281\\nsamples = 231\\nvalue = [192, 39]'),\n",
              " Text(0.125, 0.375, 'x[0] <= 0.5\\ngini = 0.302\\nsamples = 173\\nvalue = [141, 32]'),\n",
              " Text(0.0625, 0.125, 'gini = 0.444\\nsamples = 3\\nvalue = [2, 1]'),\n",
              " Text(0.1875, 0.125, 'gini = 0.298\\nsamples = 170\\nvalue = [139, 31]'),\n",
              " Text(0.375, 0.375, 'x[0] <= 25.5\\ngini = 0.212\\nsamples = 58\\nvalue = [51, 7]'),\n",
              " Text(0.3125, 0.125, 'gini = 0.0\\nsamples = 12\\nvalue = [12, 0]'),\n",
              " Text(0.4375, 0.125, 'gini = 0.258\\nsamples = 46\\nvalue = [39, 7]'),\n",
              " Text(0.75, 0.625, 'x[3] <= 1.5\\ngini = 0.353\\nsamples = 249\\nvalue = [192, 57]'),\n",
              " Text(0.625, 0.375, 'x[0] <= 0.5\\ngini = 0.386\\nsamples = 157\\nvalue = [116, 41]'),\n",
              " Text(0.5625, 0.125, 'gini = 0.0\\nsamples = 6\\nvalue = [6, 0]'),\n",
              " Text(0.6875, 0.125, 'gini = 0.396\\nsamples = 151\\nvalue = [110, 41]'),\n",
              " Text(0.875, 0.375, 'x[0] <= 23.5\\ngini = 0.287\\nsamples = 92\\nvalue = [76, 16]'),\n",
              " Text(0.8125, 0.125, 'gini = 0.323\\nsamples = 69\\nvalue = [55, 14]'),\n",
              " Text(0.9375, 0.125, 'gini = 0.159\\nsamples = 23\\nvalue = [21, 2]')]"
            ]
          },
          "metadata": {},
          "execution_count": 77
        },
        {
          "output_type": "display_data",
          "data": {
            "text/plain": [
              "<Figure size 432x288 with 1 Axes>"
            ],
            "image/png": "[encoded data removed]"
          },
          "metadata": {
            "needs_background": "light"
          }
        }
      ]
    },
    {
      "cell_type": "code",
      "source": [
        "model1.score(x_test,y_test)"
      ],
      "metadata": {
        "colab": {
          "base_uri": "https://localhost:8080/"
        },
        "id": "LMJ53OeENaZq",
        "outputId": "2bf644ad-9faf-4765-c9f9-35bd9188141f"
      },
      "execution_count": null,
      "outputs": [
        {
          "output_type": "execute_result",
          "data": {
            "text/plain": [
              "0.7666666666666667"
            ]
          },
          "metadata": {},
          "execution_count": 78
        }
      ]
    },
    {
      "cell_type": "code",
      "source": [
        "model1.score(x_train,y_train)"
      ],
      "metadata": {
        "colab": {
          "base_uri": "https://localhost:8080/"
        },
        "id": "OjC68JaoNadu",
        "outputId": "48548bbe-f1e2-44ce-e658-c8e14cf478a5"
      },
      "execution_count": null,
      "outputs": [
        {
          "output_type": "execute_result",
          "data": {
            "text/plain": [
              "0.8"
            ]
          },
          "metadata": {},
          "execution_count": 79
        }
      ]
    },
    {
      "cell_type": "code",
      "source": [],
      "metadata": {
        "id": "De-FYU2ClxTm"
      },
      "execution_count": null,
      "outputs": []
    },
    {
      "cell_type": "code",
      "source": [
        "# Accuracy of the train dataset"
      ],
      "metadata": {
        "id": "2OavY1rRlxyM"
      },
      "execution_count": null,
      "outputs": []
    },
    {
      "cell_type": "code",
      "source": [
        "pred_train = model1.predict(x_train)"
      ],
      "metadata": {
        "id": "A06mDqUUl03x"
      },
      "execution_count": null,
      "outputs": []
    },
    {
      "cell_type": "code",
      "source": [
        "accuracy_score(y_train,pred_train)"
      ],
      "metadata": {
        "colab": {
          "base_uri": "https://localhost:8080/"
        },
        "id": "UwE-B8F6mNoW",
        "outputId": "4716eafa-4db2-4a0c-d1d0-489faee42b6f"
      },
      "execution_count": null,
      "outputs": [
        {
          "output_type": "execute_result",
          "data": {
            "text/plain": [
              "0.8"
            ]
          },
          "metadata": {},
          "execution_count": 88
        }
      ]
    },
    {
      "cell_type": "code",
      "source": [
        "confusion_matrix(y_train,pred_train)"
      ],
      "metadata": {
        "colab": {
          "base_uri": "https://localhost:8080/"
        },
        "id": "3kVokxCUmwiO",
        "outputId": "b6123242-72e2-452d-9482-f3f6d2471ce4"
      },
      "execution_count": null,
      "outputs": [
        {
          "output_type": "execute_result",
          "data": {
            "text/plain": [
              "array([[384,   0],\n",
              "       [ 96,   0]])"
            ]
          },
          "metadata": {},
          "execution_count": 89
        }
      ]
    },
    {
      "cell_type": "code",
      "source": [],
      "metadata": {
        "id": "E-uKSTsInH19"
      },
      "execution_count": null,
      "outputs": []
    },
    {
      "cell_type": "code",
      "source": [
        "# Accuracy of test dataset"
      ],
      "metadata": {
        "id": "VZEmqFyNnINU"
      },
      "execution_count": null,
      "outputs": []
    },
    {
      "cell_type": "code",
      "source": [
        "pred_test = model1.predict(x_test)"
      ],
      "metadata": {
        "id": "n5zTdArLnMNh"
      },
      "execution_count": null,
      "outputs": []
    },
    {
      "cell_type": "code",
      "source": [
        "accuracy_score(y_test,pred_test)"
      ],
      "metadata": {
        "colab": {
          "base_uri": "https://localhost:8080/"
        },
        "id": "mGXD_89gnR3w",
        "outputId": "67e1cc4a-e177-4f13-96b0-b06e1571a986"
      },
      "execution_count": null,
      "outputs": [
        {
          "output_type": "execute_result",
          "data": {
            "text/plain": [
              "0.7666666666666667"
            ]
          },
          "metadata": {},
          "execution_count": 92
        }
      ]
    },
    {
      "cell_type": "code",
      "source": [
        "confusion_matrix(y_test,pred_test)"
      ],
      "metadata": {
        "colab": {
          "base_uri": "https://localhost:8080/"
        },
        "id": "YbamalOonYLS",
        "outputId": "be98cd7f-9221-4a1a-a854-f5336f68692d"
      },
      "execution_count": null,
      "outputs": [
        {
          "output_type": "execute_result",
          "data": {
            "text/plain": [
              "array([[92,  0],\n",
              "       [28,  0]])"
            ]
          },
          "metadata": {},
          "execution_count": 93
        }
      ]
    },
    {
      "cell_type": "code",
      "source": [
        "# Extracting the features which decide the factor"
      ],
      "metadata": {
        "id": "439yO2ySPucT"
      },
      "execution_count": null,
      "outputs": []
    },
    {
      "cell_type": "code",
      "source": [
        "model1.feature_importances_"
      ],
      "metadata": {
        "colab": {
          "base_uri": "https://localhost:8080/"
        },
        "id": "5apOq4KnPufz",
        "outputId": "8d8f703f-d526-4ac4-f5b1-7ec5db804f20"
      },
      "execution_count": null,
      "outputs": [
        {
          "output_type": "execute_result",
          "data": {
            "text/plain": [
              "array([0.56264244, 0.        , 0.21647357, 0.22088399])"
            ]
          },
          "metadata": {},
          "execution_count": 95
        }
      ]
    },
    {
      "cell_type": "code",
      "source": [
        "fi = pd.DataFrame({'feature': list(x_train.columns),\n",
        "                   'importance': model1.feature_importances_}).\\\n",
        "                    sort_values('importance', ascending = False)"
      ],
      "metadata": {
        "id": "KozQ6XUSUU8U"
      },
      "execution_count": null,
      "outputs": []
    },
    {
      "cell_type": "code",
      "source": [
        "fi"
      ],
      "metadata": {
        "colab": {
          "base_uri": "https://localhost:8080/",
          "height": 175
        },
        "id": "belKbFREP02H",
        "outputId": "52163e18-16a2-4670-f5eb-ed81fbc655dc"
      },
      "execution_count": null,
      "outputs": [
        {
          "output_type": "execute_result",
          "data": {
            "text/plain": [
              "           feature  importance\n",
              "0  Work.Experience    0.562642\n",
              "3    Maritalstatus    0.220884\n",
              "2       Undergrad1    0.216474\n",
              "1           Urban1    0.000000"
            ],
            "text/html": [
              "\n",
              "  <div id=\"df-b75b53d3-308c-421e-88a7-1924af18937a\">\n",
              "    <div class=\"colab-df-container\">\n",
              "      <div>\n",
              "<style scoped>\n",
              "    .dataframe tbody tr th:only-of-type {\n",
              "        vertical-align: middle;\n",
              "    }\n",
              "\n",
              "    .dataframe tbody tr th {\n",
              "        vertical-align: top;\n",
              "    }\n",
              "\n",
              "    .dataframe thead th {\n",
              "        text-align: right;\n",
              "    }\n",
              "</style>\n",
              "<table border=\"1\" class=\"dataframe\">\n",
              "  <thead>\n",
              "    <tr style=\"text-align: right;\">\n",
              "      <th></th>\n",
              "      <th>feature</th>\n",
              "      <th>importance</th>\n",
              "    </tr>\n",
              "  </thead>\n",
              "  <tbody>\n",
              "    <tr>\n",
              "      <th>0</th>\n",
              "      <td>Work.Experience</td>\n",
              "      <td>0.562642</td>\n",
              "    </tr>\n",
              "    <tr>\n",
              "      <th>3</th>\n",
              "      <td>Maritalstatus</td>\n",
              "      <td>0.220884</td>\n",
              "    </tr>\n",
              "    <tr>\n",
              "      <th>2</th>\n",
              "      <td>Undergrad1</td>\n",
              "      <td>0.216474</td>\n",
              "    </tr>\n",
              "    <tr>\n",
              "      <th>1</th>\n",
              "      <td>Urban1</td>\n",
              "      <td>0.000000</td>\n",
              "    </tr>\n",
              "  </tbody>\n",
              "</table>\n",
              "</div>\n",
              "      <button class=\"colab-df-convert\" onclick=\"convertToInteractive('df-b75b53d3-308c-421e-88a7-1924af18937a')\"\n",
              "              title=\"Convert this dataframe to an interactive table.\"\n",
              "              style=\"display:none;\">\n",
              "        \n",
              "  <svg xmlns=\"http://www.w3.org/2000/svg\" height=\"24px\"viewBox=\"0 0 24 24\"\n",
              "       width=\"24px\">\n",
              "    <path d=\"M0 0h24v24H0V0z\" fill=\"none\"/>\n",
              "    <path d=\"M18.56 5.44l.94 2.06.94-2.06 2.06-.94-2.06-.94-.94-2.06-.94 2.06-2.06.94zm-11 1L8.5 8.5l.94-2.06 2.06-.94-2.06-.94L8.5 2.5l-.94 2.06-2.06.94zm10 10l.94 2.06.94-2.06 2.06-.94-2.06-.94-.94-2.06-.94 2.06-2.06.94z\"/><path d=\"M17.41 7.96l-1.37-1.37c-.4-.4-.92-.59-1.43-.59-.52 0-1.04.2-1.43.59L10.3 9.45l-7.72 7.72c-.78.78-.78 2.05 0 2.83L4 21.41c.39.39.9.59 1.41.59.51 0 1.02-.2 1.41-.59l7.78-7.78 2.81-2.81c.8-.78.8-2.07 0-2.86zM5.41 20L4 18.59l7.72-7.72 1.47 1.35L5.41 20z\"/>\n",
              "  </svg>\n",
              "      </button>\n",
              "      \n",
              "  <style>\n",
              "    .colab-df-container {\n",
              "      display:flex;\n",
              "      flex-wrap:wrap;\n",
              "      gap: 12px;\n",
              "    }\n",
              "\n",
              "    .colab-df-convert {\n",
              "      background-color: #E8F0FE;\n",
              "      border: none;\n",
              "      border-radius: 50%;\n",
              "      cursor: pointer;\n",
              "      display: none;\n",
              "      fill: #1967D2;\n",
              "      height: 32px;\n",
              "      padding: 0 0 0 0;\n",
              "      width: 32px;\n",
              "    }\n",
              "\n",
              "    .colab-df-convert:hover {\n",
              "      background-color: #E2EBFA;\n",
              "      box-shadow: 0px 1px 2px rgba(60, 64, 67, 0.3), 0px 1px 3px 1px rgba(60, 64, 67, 0.15);\n",
              "      fill: #174EA6;\n",
              "    }\n",
              "\n",
              "    [theme=dark] .colab-df-convert {\n",
              "      background-color: #3B4455;\n",
              "      fill: #D2E3FC;\n",
              "    }\n",
              "\n",
              "    [theme=dark] .colab-df-convert:hover {\n",
              "      background-color: #434B5C;\n",
              "      box-shadow: 0px 1px 3px 1px rgba(0, 0, 0, 0.15);\n",
              "      filter: drop-shadow(0px 1px 2px rgba(0, 0, 0, 0.3));\n",
              "      fill: #FFFFFF;\n",
              "    }\n",
              "  </style>\n",
              "\n",
              "      <script>\n",
              "        const buttonEl =\n",
              "          document.querySelector('#df-b75b53d3-308c-421e-88a7-1924af18937a button.colab-df-convert');\n",
              "        buttonEl.style.display =\n",
              "          google.colab.kernel.accessAllowed ? 'block' : 'none';\n",
              "\n",
              "        async function convertToInteractive(key) {\n",
              "          const element = document.querySelector('#df-b75b53d3-308c-421e-88a7-1924af18937a');\n",
              "          const dataTable =\n",
              "            await google.colab.kernel.invokeFunction('convertToInteractive',\n",
              "                                                     [key], {});\n",
              "          if (!dataTable) return;\n",
              "\n",
              "          const docLinkHtml = 'Like what you see? Visit the ' +\n",
              "            '<a target=\"_blank\" href=https://colab.research.google.com/notebooks/data_table.ipynb>data table notebook</a>'\n",
              "            + ' to learn more about interactive tables.';\n",
              "          element.innerHTML = '';\n",
              "          dataTable['output_type'] = 'display_data';\n",
              "          await google.colab.output.renderOutput(dataTable, element);\n",
              "          const docLink = document.createElement('div');\n",
              "          docLink.innerHTML = docLinkHtml;\n",
              "          element.appendChild(docLink);\n",
              "        }\n",
              "      </script>\n",
              "    </div>\n",
              "  </div>\n",
              "  "
            ]
          },
          "metadata": {},
          "execution_count": 97
        }
      ]
    },
    {
      "cell_type": "code",
      "source": [],
      "metadata": {
        "id": "9USMk7YiQHcq"
      },
      "execution_count": null,
      "outputs": []
    },
    {
      "cell_type": "code",
      "source": [],
      "metadata": {
        "id": "HDhyse8yQHml"
      },
      "execution_count": null,
      "outputs": []
    },
    {
      "cell_type": "markdown",
      "source": [
        "CONCLUSION:\n",
        "\n",
        "From the above feature extraction column,we see that ** ''**Work.Experience** '' **  has the highest importance in making the decision of whether there occurs fraud in the \n",
        "city or not."
      ],
      "metadata": {
        "id": "X3zgYQwkP5jh"
      }
    }
  ]
}