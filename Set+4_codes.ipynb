{
  "nbformat": 4,
  "nbformat_minor": 0,
  "metadata": {
    "colab": {
      "provenance": []
    },
    "kernelspec": {
      "name": "python3",
      "display_name": "Python 3"
    },
    "language_info": {
      "name": "python"
    }
  },
  "cells": [
    {
      "cell_type": "code",
      "execution_count": null,
      "metadata": {
        "colab": {
          "base_uri": "https://localhost:8080/"
        },
        "id": "hN5PpUDapm-W",
        "outputId": "b5875ea7-8a40-4d55-a254-c95996ae8a95"
      },
      "outputs": [
        {
          "output_type": "execute_result",
          "data": {
            "text/plain": [
              "78.58"
            ]
          },
          "metadata": {},
          "execution_count": 6
        }
      ],
      "source": [
        "#3) Given : \n",
        "#          n             = 100\n",
        "#          mean          = 50\n",
        "#    standard deviation  = 40\n",
        "#                     x' = sample mean\n",
        "#                     x'1 = 45 (Lower Limit)  and x'2 = 55 (Upper Limit)\n",
        "\n",
        "#  From t Formula \n",
        "\n",
        "# t = (x' - mean)/(standard deviation/sqrt(n))\n",
        "\n",
        "# Plugging in the values , we get Lower Limit  t = - 1.25  and Upper Limit  t = 1.25\n",
        "\n",
        "# Degrees of Freedom (df)  = n-1 = 100-1 = 99 \n",
        "\n",
        "# Probability of no further investigation\n",
        "from scipy import stats\n",
        "\n",
        "a=stats.t.cdf(1.25,df=99) - stats.t.cdf(-1.25,df=99)\n",
        "round(a*100,2)"
      ]
    },
    {
      "cell_type": "code",
      "source": [
        "# Probability of there will be some investigation further .\n",
        "\n",
        "round((1-a)*100,2)"
      ],
      "metadata": {
        "colab": {
          "base_uri": "https://localhost:8080/"
        },
        "id": "PbD3Z1iHp-qV",
        "outputId": "0b9fe797-abcd-4b01-a6a3-981babbc3e4a"
      },
      "execution_count": null,
      "outputs": [
        {
          "output_type": "execute_result",
          "data": {
            "text/plain": [
              "21.42"
            ]
          },
          "metadata": {},
          "execution_count": 7
        }
      ]
    },
    {
      "cell_type": "code",
      "source": [],
      "metadata": {
        "id": "S3fHv9SE0mzw"
      },
      "execution_count": null,
      "outputs": []
    }
  ]
}